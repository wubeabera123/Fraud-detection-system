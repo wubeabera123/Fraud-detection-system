{
 "cells": [
  {
   "cell_type": "markdown",
   "metadata": {},
   "source": [
    "# Import the necessary libraries"
   ]
  },
  {
   "cell_type": "code",
   "execution_count": 1,
   "metadata": {},
   "outputs": [],
   "source": [
    "import pandas as pd\n",
    "import sys\n",
    "import os\n",
    "import matplotlib.pyplot as plt\n",
    "import seaborn as sns\n",
    "import logging\n",
    "import pandas as pd\n",
    " \n",
    "# Configure logging\n",
    "logging.basicConfig(filename='../logs/',\n",
    "                    level=logging.INFO,\n",
    "                    format='%(asctime)s:%(levelname)s:%(message)s')\n",
    "  \n",
    "\n",
    "sys.path.append(os.path.abspath(os.path.join(os.getcwd(), '../../scripts')))\n",
    "from load_csv_data import Load_CSV_Data\n"
   ]
  },
  {
   "cell_type": "markdown",
   "metadata": {},
   "source": [
    "# Load data"
   ]
  },
  {
   "cell_type": "code",
   "execution_count": 2,
   "metadata": {},
   "outputs": [
    {
     "name": "stdout",
     "output_type": "stream",
     "text": [
      "Data successfully loaded from ../../data/normalized_scaled_credit_data.csv\n"
     ]
    }
   ],
   "source": [
    "credit_df = Load_CSV_Data('../../data/normalized_scaled_credit_data.csv')\n",
    "credit_df.load_csv_data()\n",
    "credit_df = credit_df.get_data()"
   ]
  },
  {
   "cell_type": "markdown",
   "metadata": {},
   "source": [
    "# Feature and Target separation"
   ]
  },
  {
   "cell_type": "code",
   "execution_count": 3,
   "metadata": {},
   "outputs": [
    {
     "name": "stdout",
     "output_type": "stream",
     "text": [
      "Credit card data - Features: (283726, 30), Target: (283726,)\n"
     ]
    }
   ],
   "source": [
    "# Feature and Target separation for credit card data\n",
    "X_credit = credit_df.drop(columns=['Class'])  # Features (remove target column)\n",
    "y_credit = credit_df['Class']                # Target (Class column)\n",
    "\n",
    "\n",
    "# Check the shape of the datasets to ensure separation is correct\n",
    "print(f\"Credit card data - Features: {X_credit.shape}, Target: {y_credit.shape}\")\n"
   ]
  },
  {
   "cell_type": "markdown",
   "metadata": {},
   "source": [
    "# Logistic Regression "
   ]
  },
  {
   "cell_type": "code",
   "execution_count": 4,
   "metadata": {},
   "outputs": [
    {
     "name": "stdout",
     "output_type": "stream",
     "text": [
      "Logistic Regression for Credit Card Data\n",
      "Credit Card Data - Accuracy: 0.9991\n",
      "Credit Card Data - Precision: 0.8485\n",
      "Credit Card Data - Recall: 0.5895\n",
      "Credit Card Data - F1-Score: 0.6957\n",
      "\n",
      "Classification Report for Credit Card Data:\n",
      "               precision    recall  f1-score   support\n",
      "\n",
      "           0       1.00      1.00      1.00     56651\n",
      "           1       0.85      0.59      0.70        95\n",
      "\n",
      "    accuracy                           1.00     56746\n",
      "   macro avg       0.92      0.79      0.85     56746\n",
      "weighted avg       1.00      1.00      1.00     56746\n",
      "\n",
      "\n",
      "Confusion Matrix for Credit Card Data:\n",
      " [[56641    10]\n",
      " [   39    56]]\n"
     ]
    }
   ],
   "source": [
    "from sklearn.model_selection import train_test_split\n",
    "from sklearn.linear_model import LogisticRegression\n",
    "from sklearn.metrics import accuracy_score, precision_score, recall_score, f1_score, confusion_matrix, classification_report\n",
    "\n",
    "# Credit Card Data - Logistic Regression\n",
    "print(\"Logistic Regression for Credit Card Data\")\n",
    "\n",
    "# Split the credit card data into training and testing sets (80% train, 20% test)\n",
    "X_train_credit, X_test_credit, y_train_credit, y_test_credit = train_test_split(X_credit, y_credit, test_size=0.2, random_state=42, stratify=y_credit)\n",
    "\n",
    "# Initialize the Logistic Regression model\n",
    "log_reg_credit = LogisticRegression(max_iter=1000)\n",
    "\n",
    "# Train the model on the training data\n",
    "log_reg_credit.fit(X_train_credit, y_train_credit)\n",
    "\n",
    "# Make predictions on the test data\n",
    "y_pred_credit = log_reg_credit.predict(X_test_credit)\n",
    "\n",
    "# Evaluate the model performance\n",
    "accuracy_credit = accuracy_score(y_test_credit, y_pred_credit)\n",
    "precision_credit = precision_score(y_test_credit, y_pred_credit)\n",
    "recall_credit = recall_score(y_test_credit, y_pred_credit)\n",
    "f1_credit = f1_score(y_test_credit, y_pred_credit)\n",
    "\n",
    "# Print evaluation metrics\n",
    "print(f\"Credit Card Data - Accuracy: {accuracy_credit:.4f}\")\n",
    "print(f\"Credit Card Data - Precision: {precision_credit:.4f}\")\n",
    "print(f\"Credit Card Data - Recall: {recall_credit:.4f}\")\n",
    "print(f\"Credit Card Data - F1-Score: {f1_credit:.4f}\")\n",
    "print(\"\\nClassification Report for Credit Card Data:\\n\", classification_report(y_test_credit, y_pred_credit))\n",
    "print(\"\\nConfusion Matrix for Credit Card Data:\\n\", confusion_matrix(y_test_credit, y_pred_credit))\n"
   ]
  },
  {
   "cell_type": "markdown",
   "metadata": {},
   "source": [
    "# Decision Tree"
   ]
  },
  {
   "cell_type": "code",
   "execution_count": 5,
   "metadata": {},
   "outputs": [
    {
     "name": "stdout",
     "output_type": "stream",
     "text": [
      "Credit Data - Decision Tree Results:\n",
      "Accuracy: 0.9990\n",
      "Precision: 0.6667\n",
      "Recall: 0.7111\n",
      "F1-Score: 0.6882\n"
     ]
    }
   ],
   "source": [
    "from sklearn.tree import DecisionTreeClassifier\n",
    "from sklearn.metrics import accuracy_score, precision_score, recall_score, f1_score\n",
    "from sklearn.model_selection import train_test_split\n",
    "\n",
    "# Assuming X_credit and y_credit are already defined (features and target)\n",
    "# Train-test split\n",
    "X_train_credit, X_test_credit, y_train_credit, y_test_credit = train_test_split(X_credit, y_credit, test_size=0.2, random_state=42)\n",
    "\n",
    "# Initialize the Decision Tree Classifier\n",
    "dt_credit = DecisionTreeClassifier(random_state=42)\n",
    "\n",
    "# Train the model\n",
    "dt_credit.fit(X_train_credit, y_train_credit)\n",
    "\n",
    "# Make predictions on the test set\n",
    "y_pred_credit = dt_credit.predict(X_test_credit)\n",
    "\n",
    "# Evaluate the model\n",
    "accuracy_credit = accuracy_score(y_test_credit, y_pred_credit)\n",
    "precision_credit = precision_score(y_test_credit, y_pred_credit)\n",
    "recall_credit = recall_score(y_test_credit, y_pred_credit)\n",
    "f1_credit = f1_score(y_test_credit, y_pred_credit)\n",
    "\n",
    "# Print the evaluation results\n",
    "print(f\"Credit Data - Decision Tree Results:\")\n",
    "print(f\"Accuracy: {accuracy_credit:.4f}\")\n",
    "print(f\"Precision: {precision_credit:.4f}\")\n",
    "print(f\"Recall: {recall_credit:.4f}\")\n",
    "print(f\"F1-Score: {f1_credit:.4f}\")\n"
   ]
  },
  {
   "cell_type": "markdown",
   "metadata": {},
   "source": [
    "# Random Forest "
   ]
  },
  {
   "cell_type": "code",
   "execution_count": 6,
   "metadata": {},
   "outputs": [
    {
     "name": "stdout",
     "output_type": "stream",
     "text": [
      "Credit Data - Random Forest Results:\n",
      "Accuracy: 0.9995\n",
      "Precision: 0.9706\n",
      "Recall: 0.7333\n",
      "F1-Score: 0.8354\n"
     ]
    }
   ],
   "source": [
    "from sklearn.ensemble import RandomForestClassifier\n",
    "from sklearn.metrics import accuracy_score, precision_score, recall_score, f1_score\n",
    "from sklearn.model_selection import train_test_split\n",
    "\n",
    "# Assuming X_credit and y_credit are already defined (features and target)\n",
    "# Train-test split\n",
    "X_train_credit, X_test_credit, y_train_credit, y_test_credit = train_test_split(X_credit, y_credit, test_size=0.2, random_state=42)\n",
    "\n",
    "# Initialize the Random Forest Classifier\n",
    "rf_credit = RandomForestClassifier(random_state=42, n_estimators=100)\n",
    "\n",
    "# Train the model\n",
    "rf_credit.fit(X_train_credit, y_train_credit)\n",
    "\n",
    "# Make predictions on the test set\n",
    "y_pred_credit = rf_credit.predict(X_test_credit)\n",
    "\n",
    "# Evaluate the model\n",
    "accuracy_credit = accuracy_score(y_test_credit, y_pred_credit)\n",
    "precision_credit = precision_score(y_test_credit, y_pred_credit)\n",
    "recall_credit = recall_score(y_test_credit, y_pred_credit)\n",
    "f1_credit = f1_score(y_test_credit, y_pred_credit)\n",
    "\n",
    "# Print the evaluation results\n",
    "print(f\"Credit Data - Random Forest Results:\")\n",
    "print(f\"Accuracy: {accuracy_credit:.4f}\")\n",
    "print(f\"Precision: {precision_credit:.4f}\")\n",
    "print(f\"Recall: {recall_credit:.4f}\")\n",
    "print(f\"F1-Score: {f1_credit:.4f}\")\n"
   ]
  },
  {
   "cell_type": "markdown",
   "metadata": {},
   "source": [
    "# Gradient Boosting"
   ]
  },
  {
   "cell_type": "code",
   "execution_count": 7,
   "metadata": {},
   "outputs": [
    {
     "name": "stdout",
     "output_type": "stream",
     "text": [
      "Credit Data - Gradient Boosting Results:\n",
      "Accuracy: 0.9993\n",
      "Precision: 0.8906\n",
      "Recall: 0.6333\n",
      "F1-Score: 0.7403\n"
     ]
    }
   ],
   "source": [
    "from sklearn.ensemble import GradientBoostingClassifier\n",
    "from sklearn.metrics import accuracy_score, precision_score, recall_score, f1_score\n",
    "from sklearn.model_selection import train_test_split\n",
    "\n",
    "# Assuming X_credit and y_credit are already defined (features and target)\n",
    "# Train-test split\n",
    "X_train_credit, X_test_credit, y_train_credit, y_test_credit = train_test_split(X_credit, y_credit, test_size=0.2, random_state=42)\n",
    "\n",
    "# Initialize the Gradient Boosting Classifier\n",
    "gb_credit = GradientBoostingClassifier(random_state=42, n_estimators=100, learning_rate=0.1)\n",
    "\n",
    "# Train the model\n",
    "gb_credit.fit(X_train_credit, y_train_credit)\n",
    "\n",
    "# Make predictions on the test set\n",
    "y_pred_credit = gb_credit.predict(X_test_credit)\n",
    "\n",
    "# Evaluate the model\n",
    "accuracy_credit = accuracy_score(y_test_credit, y_pred_credit)\n",
    "precision_credit = precision_score(y_test_credit, y_pred_credit)\n",
    "recall_credit = recall_score(y_test_credit, y_pred_credit)\n",
    "f1_credit = f1_score(y_test_credit, y_pred_credit)\n",
    "\n",
    "# Print the evaluation results\n",
    "print(f\"Credit Data - Gradient Boosting Results:\")\n",
    "print(f\"Accuracy: {accuracy_credit:.4f}\")\n",
    "print(f\"Precision: {precision_credit:.4f}\")\n",
    "print(f\"Recall: {recall_credit:.4f}\")\n",
    "print(f\"F1-Score: {f1_credit:.4f}\")\n"
   ]
  },
  {
   "cell_type": "markdown",
   "metadata": {},
   "source": [
    "# Multi-Layer Perceptron (MLP)"
   ]
  },
  {
   "cell_type": "code",
   "execution_count": 8,
   "metadata": {},
   "outputs": [
    {
     "name": "stdout",
     "output_type": "stream",
     "text": [
      "Credit Data - MLP Results:\n",
      "Accuracy: 0.9995\n",
      "Precision: 0.9041\n",
      "Recall: 0.7333\n",
      "F1-Score: 0.8098\n"
     ]
    }
   ],
   "source": [
    "from sklearn.neural_network import MLPClassifier\n",
    "from sklearn.metrics import accuracy_score, precision_score, recall_score, f1_score\n",
    "from sklearn.model_selection import train_test_split\n",
    "\n",
    "# Train-test split for credit card data\n",
    "X_train_credit, X_test_credit, y_train_credit, y_test_credit = train_test_split(X_credit, y_credit, test_size=0.2, random_state=42)\n",
    "\n",
    "# Initialize the MLP Classifier\n",
    "mlp_credit = MLPClassifier(hidden_layer_sizes=(100, 50), max_iter=300, random_state=42)\n",
    "\n",
    "# Train the model\n",
    "mlp_credit.fit(X_train_credit, y_train_credit)\n",
    "\n",
    "# Make predictions on the test set\n",
    "y_pred_credit = mlp_credit.predict(X_test_credit)\n",
    "\n",
    "# Evaluate the model\n",
    "accuracy_credit = accuracy_score(y_test_credit, y_pred_credit)\n",
    "precision_credit = precision_score(y_test_credit, y_pred_credit)\n",
    "recall_credit = recall_score(y_test_credit, y_pred_credit)\n",
    "f1_credit = f1_score(y_test_credit, y_pred_credit)\n",
    "\n",
    "# Print the evaluation results\n",
    "print(f\"Credit Data - MLP Results:\")\n",
    "print(f\"Accuracy: {accuracy_credit:.4f}\")\n",
    "print(f\"Precision: {precision_credit:.4f}\")\n",
    "print(f\"Recall: {recall_credit:.4f}\")\n",
    "print(f\"F1-Score: {f1_credit:.4f}\")\n"
   ]
  },
  {
   "cell_type": "markdown",
   "metadata": {},
   "source": [
    "# Convolutional Neural Network (CNN)"
   ]
  },
  {
   "cell_type": "code",
   "execution_count": 9,
   "metadata": {},
   "outputs": [
    {
     "name": "stdout",
     "output_type": "stream",
     "text": [
      "Epoch 1/10\n"
     ]
    },
    {
     "name": "stderr",
     "output_type": "stream",
     "text": [
      "c:\\Users\\wubeshet.abera\\Projects\\Ten-Academy\\Fraud-detection-system\\venv\\Lib\\site-packages\\keras\\src\\layers\\convolutional\\base_conv.py:107: UserWarning: Do not pass an `input_shape`/`input_dim` argument to a layer. When using Sequential models, prefer using an `Input(shape)` object as the first layer in the model instead.\n",
      "  super().__init__(activity_regularizer=activity_regularizer, **kwargs)\n"
     ]
    },
    {
     "name": "stdout",
     "output_type": "stream",
     "text": [
      "\u001b[1m5675/5675\u001b[0m \u001b[32m━━━━━━━━━━━━━━━━━━━━\u001b[0m\u001b[37m\u001b[0m \u001b[1m16s\u001b[0m 3ms/step - accuracy: 0.9976 - loss: 0.0186 - val_accuracy: 0.9992 - val_loss: 0.0037\n",
      "Epoch 2/10\n",
      "\u001b[1m5675/5675\u001b[0m \u001b[32m━━━━━━━━━━━━━━━━━━━━\u001b[0m\u001b[37m\u001b[0m \u001b[1m13s\u001b[0m 2ms/step - accuracy: 0.9994 - loss: 0.0038 - val_accuracy: 0.9991 - val_loss: 0.0046\n",
      "Epoch 3/10\n",
      "\u001b[1m5675/5675\u001b[0m \u001b[32m━━━━━━━━━━━━━━━━━━━━\u001b[0m\u001b[37m\u001b[0m \u001b[1m13s\u001b[0m 2ms/step - accuracy: 0.9993 - loss: 0.0037 - val_accuracy: 0.9993 - val_loss: 0.0036\n",
      "Epoch 4/10\n",
      "\u001b[1m5675/5675\u001b[0m \u001b[32m━━━━━━━━━━━━━━━━━━━━\u001b[0m\u001b[37m\u001b[0m \u001b[1m13s\u001b[0m 2ms/step - accuracy: 0.9994 - loss: 0.0038 - val_accuracy: 0.9993 - val_loss: 0.0035\n",
      "Epoch 5/10\n",
      "\u001b[1m5675/5675\u001b[0m \u001b[32m━━━━━━━━━━━━━━━━━━━━\u001b[0m\u001b[37m\u001b[0m \u001b[1m13s\u001b[0m 2ms/step - accuracy: 0.9993 - loss: 0.0035 - val_accuracy: 0.9994 - val_loss: 0.0038\n",
      "Epoch 6/10\n",
      "\u001b[1m5675/5675\u001b[0m \u001b[32m━━━━━━━━━━━━━━━━━━━━\u001b[0m\u001b[37m\u001b[0m \u001b[1m13s\u001b[0m 2ms/step - accuracy: 0.9994 - loss: 0.0037 - val_accuracy: 0.9992 - val_loss: 0.0036\n",
      "Epoch 7/10\n",
      "\u001b[1m5675/5675\u001b[0m \u001b[32m━━━━━━━━━━━━━━━━━━━━\u001b[0m\u001b[37m\u001b[0m \u001b[1m13s\u001b[0m 2ms/step - accuracy: 0.9994 - loss: 0.0032 - val_accuracy: 0.9990 - val_loss: 0.0056\n",
      "Epoch 8/10\n",
      "\u001b[1m5675/5675\u001b[0m \u001b[32m━━━━━━━━━━━━━━━━━━━━\u001b[0m\u001b[37m\u001b[0m \u001b[1m14s\u001b[0m 2ms/step - accuracy: 0.9994 - loss: 0.0032 - val_accuracy: 0.9993 - val_loss: 0.0035\n",
      "Epoch 9/10\n",
      "\u001b[1m5675/5675\u001b[0m \u001b[32m━━━━━━━━━━━━━━━━━━━━\u001b[0m\u001b[37m\u001b[0m \u001b[1m15s\u001b[0m 3ms/step - accuracy: 0.9995 - loss: 0.0025 - val_accuracy: 0.9993 - val_loss: 0.0053\n",
      "Epoch 10/10\n",
      "\u001b[1m5675/5675\u001b[0m \u001b[32m━━━━━━━━━━━━━━━━━━━━\u001b[0m\u001b[37m\u001b[0m \u001b[1m15s\u001b[0m 3ms/step - accuracy: 0.9994 - loss: 0.0033 - val_accuracy: 0.9993 - val_loss: 0.0040\n",
      "\u001b[1m1774/1774\u001b[0m \u001b[32m━━━━━━━━━━━━━━━━━━━━\u001b[0m\u001b[37m\u001b[0m \u001b[1m2s\u001b[0m 1ms/step\n",
      "Credit Data - CNN Results:\n",
      "Accuracy: 0.9994\n",
      "Precision: 0.9667\n",
      "Recall: 0.6444\n",
      "F1-Score: 0.7733\n"
     ]
    }
   ],
   "source": [
    "import numpy as np\n",
    "import tensorflow as tf\n",
    "from sklearn.model_selection import train_test_split\n",
    "from sklearn.metrics import accuracy_score, precision_score, recall_score, f1_score\n",
    "\n",
    "# Reshape data for CNN\n",
    "X_credit_reshaped = np.expand_dims(X_credit, axis=2)  # Adding a channel dimension (like a grayscale image)\n",
    "\n",
    "# Train-test split\n",
    "X_train_credit, X_test_credit, y_train_credit, y_test_credit = train_test_split(X_credit_reshaped, y_credit, test_size=0.2, random_state=42)\n",
    "\n",
    "# Define the CNN model\n",
    "def create_cnn_model(input_shape):\n",
    "    model = tf.keras.models.Sequential()\n",
    "    \n",
    "    # First Conv1D layer\n",
    "    model.add(tf.keras.layers.Conv1D(filters=32, kernel_size=3, activation='relu', input_shape=input_shape))\n",
    "    model.add(tf.keras.layers.MaxPooling1D(pool_size=2))\n",
    "    \n",
    "    # Second Conv1D layer\n",
    "    model.add(tf.keras.layers.Conv1D(filters=64, kernel_size=3, activation='relu'))\n",
    "    model.add(tf.keras.layers.MaxPooling1D(pool_size=2))\n",
    "    \n",
    "    # Flatten and add dense layers\n",
    "    model.add(tf.keras.layers.Flatten())\n",
    "    model.add(tf.keras.layers.Dense(64, activation='relu'))\n",
    "    model.add(tf.keras.layers.Dropout(0.5))\n",
    "    model.add(tf.keras.layers.Dense(1, activation='sigmoid'))  # Binary classification\n",
    "\n",
    "    # Compile the model\n",
    "    model.compile(optimizer='adam', loss='binary_crossentropy', metrics=['accuracy'])\n",
    "    \n",
    "    return model\n",
    "\n",
    "# Create CNN model\n",
    "cnn_model_credit = create_cnn_model(input_shape=(X_train_credit.shape[1], 1))\n",
    "\n",
    "# Train the model\n",
    "cnn_model_credit.fit(X_train_credit, y_train_credit, epochs=10, batch_size=32, validation_split=0.2)\n",
    "\n",
    "# Make predictions on the test set\n",
    "y_pred_credit = (cnn_model_credit.predict(X_test_credit) > 0.5).astype(\"int32\")\n",
    "\n",
    "# Evaluate the model\n",
    "accuracy_credit = accuracy_score(y_test_credit, y_pred_credit)\n",
    "precision_credit = precision_score(y_test_credit, y_pred_credit)\n",
    "recall_credit = recall_score(y_test_credit, y_pred_credit)\n",
    "f1_credit = f1_score(y_test_credit, y_pred_credit)\n",
    "\n",
    "# Print the evaluation results\n",
    "print(f\"Credit Data - CNN Results:\")\n",
    "print(f\"Accuracy: {accuracy_credit:.4f}\")\n",
    "print(f\"Precision: {precision_credit:.4f}\")\n",
    "print(f\"Recall: {recall_credit:.4f}\")\n",
    "print(f\"F1-Score: {f1_credit:.4f}\")\n"
   ]
  },
  {
   "cell_type": "markdown",
   "metadata": {},
   "source": [
    "# Recurrent Neural Network (RNN)\n"
   ]
  },
  {
   "cell_type": "code",
   "execution_count": 10,
   "metadata": {},
   "outputs": [
    {
     "name": "stdout",
     "output_type": "stream",
     "text": [
      "Epoch 1/10\n"
     ]
    },
    {
     "name": "stderr",
     "output_type": "stream",
     "text": [
      "c:\\Users\\wubeshet.abera\\Projects\\Ten-Academy\\Fraud-detection-system\\venv\\Lib\\site-packages\\keras\\src\\layers\\rnn\\rnn.py:204: UserWarning: Do not pass an `input_shape`/`input_dim` argument to a layer. When using Sequential models, prefer using an `Input(shape)` object as the first layer in the model instead.\n",
      "  super().__init__(**kwargs)\n"
     ]
    },
    {
     "name": "stdout",
     "output_type": "stream",
     "text": [
      "\u001b[1m2838/2838\u001b[0m \u001b[32m━━━━━━━━━━━━━━━━━━━━\u001b[0m\u001b[37m\u001b[0m \u001b[1m5s\u001b[0m 1ms/step - accuracy: 0.9765 - loss: 0.0723 - val_accuracy: 0.9992 - val_loss: 0.0039\n",
      "Epoch 2/10\n",
      "\u001b[1m2838/2838\u001b[0m \u001b[32m━━━━━━━━━━━━━━━━━━━━\u001b[0m\u001b[37m\u001b[0m \u001b[1m3s\u001b[0m 1ms/step - accuracy: 0.9993 - loss: 0.0031 - val_accuracy: 0.9992 - val_loss: 0.0036\n",
      "Epoch 3/10\n",
      "\u001b[1m2838/2838\u001b[0m \u001b[32m━━━━━━━━━━━━━━━━━━━━\u001b[0m\u001b[37m\u001b[0m \u001b[1m3s\u001b[0m 1ms/step - accuracy: 0.9993 - loss: 0.0031 - val_accuracy: 0.9992 - val_loss: 0.0039\n",
      "Epoch 4/10\n",
      "\u001b[1m2838/2838\u001b[0m \u001b[32m━━━━━━━━━━━━━━━━━━━━\u001b[0m\u001b[37m\u001b[0m \u001b[1m4s\u001b[0m 1ms/step - accuracy: 0.9993 - loss: 0.0030 - val_accuracy: 0.9993 - val_loss: 0.0033\n",
      "Epoch 5/10\n",
      "\u001b[1m2838/2838\u001b[0m \u001b[32m━━━━━━━━━━━━━━━━━━━━\u001b[0m\u001b[37m\u001b[0m \u001b[1m4s\u001b[0m 1ms/step - accuracy: 0.9994 - loss: 0.0032 - val_accuracy: 0.9992 - val_loss: 0.0035\n",
      "Epoch 6/10\n",
      "\u001b[1m2838/2838\u001b[0m \u001b[32m━━━━━━━━━━━━━━━━━━━━\u001b[0m\u001b[37m\u001b[0m \u001b[1m4s\u001b[0m 1ms/step - accuracy: 0.9993 - loss: 0.0033 - val_accuracy: 0.9992 - val_loss: 0.0036\n",
      "Epoch 7/10\n",
      "\u001b[1m2838/2838\u001b[0m \u001b[32m━━━━━━━━━━━━━━━━━━━━\u001b[0m\u001b[37m\u001b[0m \u001b[1m4s\u001b[0m 1ms/step - accuracy: 0.9993 - loss: 0.0029 - val_accuracy: 0.9992 - val_loss: 0.0034\n",
      "Epoch 8/10\n",
      "\u001b[1m2838/2838\u001b[0m \u001b[32m━━━━━━━━━━━━━━━━━━━━\u001b[0m\u001b[37m\u001b[0m \u001b[1m4s\u001b[0m 1ms/step - accuracy: 0.9993 - loss: 0.0029 - val_accuracy: 0.9992 - val_loss: 0.0034\n",
      "Epoch 9/10\n",
      "\u001b[1m2838/2838\u001b[0m \u001b[32m━━━━━━━━━━━━━━━━━━━━\u001b[0m\u001b[37m\u001b[0m \u001b[1m4s\u001b[0m 1ms/step - accuracy: 0.9994 - loss: 0.0027 - val_accuracy: 0.9993 - val_loss: 0.0036\n",
      "Epoch 10/10\n",
      "\u001b[1m2838/2838\u001b[0m \u001b[32m━━━━━━━━━━━━━━━━━━━━\u001b[0m\u001b[37m\u001b[0m \u001b[1m4s\u001b[0m 1ms/step - accuracy: 0.9994 - loss: 0.0029 - val_accuracy: 0.9993 - val_loss: 0.0035\n",
      "\u001b[1m1774/1774\u001b[0m \u001b[32m━━━━━━━━━━━━━━━━━━━━\u001b[0m\u001b[37m\u001b[0m \u001b[1m1s\u001b[0m 776us/step\n",
      "Credit Data - RNN Model\n",
      "              precision    recall  f1-score   support\n",
      "\n",
      "           0       1.00      1.00      1.00     56656\n",
      "           1       0.88      0.74      0.81        90\n",
      "\n",
      "    accuracy                           1.00     56746\n",
      "   macro avg       0.94      0.87      0.90     56746\n",
      "weighted avg       1.00      1.00      1.00     56746\n",
      "\n"
     ]
    }
   ],
   "source": [
    "import numpy as np\n",
    "from tensorflow.keras.models import Sequential\n",
    "from tensorflow.keras.layers import Dense, SimpleRNN, Dropout\n",
    "from tensorflow.keras.optimizers import Adam\n",
    "from sklearn.model_selection import train_test_split\n",
    "from sklearn.metrics import classification_report\n",
    "\n",
    "# Assuming X_credit and y_credit are already prepared\n",
    "\n",
    "# Create RNN Model\n",
    "def create_rnn_model(input_shape):\n",
    "    model = Sequential()\n",
    "    \n",
    "    # RNN layer with 64 units\n",
    "    model.add(SimpleRNN(units=64, activation='tanh', input_shape=input_shape))\n",
    "    \n",
    "    # Dropout to prevent overfitting\n",
    "    model.add(Dropout(0.5))\n",
    "    \n",
    "    # Fully connected layers\n",
    "    model.add(Dense(32, activation='relu'))\n",
    "    model.add(Dense(1, activation='sigmoid'))  # Binary classification output\n",
    "    \n",
    "    # Compile the model\n",
    "    model.compile(optimizer=Adam(), loss='binary_crossentropy', metrics=['accuracy'])\n",
    "    \n",
    "    return model\n",
    "\n",
    "# Train-test split for credit data\n",
    "X_credit_train, X_credit_test, y_credit_train, y_credit_test = train_test_split(X_credit, y_credit, test_size=0.2, random_state=42)\n",
    "\n",
    "# Reshape data to (samples, timesteps, features) for RNN input\n",
    "X_credit_train_rnn = np.expand_dims(X_credit_train, axis=1)\n",
    "X_credit_test_rnn = np.expand_dims(X_credit_test, axis=1)\n",
    "\n",
    "# Build and train the RNN model for credit data\n",
    "rnn_model_credit = create_rnn_model(X_credit_train_rnn.shape[1:])\n",
    "rnn_model_credit.fit(X_credit_train_rnn, y_credit_train, epochs=10, batch_size=64, validation_split=0.2)\n",
    "\n",
    "# Evaluate the RNN model for credit data\n",
    "credit_pred_rnn = rnn_model_credit.predict(X_credit_test_rnn)\n",
    "credit_pred_rnn = np.round(credit_pred_rnn)\n",
    "\n",
    "print(\"Credit Data - RNN Model\")\n",
    "print(classification_report(y_credit_test, credit_pred_rnn))\n"
   ]
  },
  {
   "cell_type": "markdown",
   "metadata": {},
   "source": [
    "# Long Short-Term Memory (LSTM)\n"
   ]
  },
  {
   "cell_type": "code",
   "execution_count": 11,
   "metadata": {},
   "outputs": [
    {
     "name": "stdout",
     "output_type": "stream",
     "text": [
      "Epoch 1/10\n"
     ]
    },
    {
     "name": "stderr",
     "output_type": "stream",
     "text": [
      "c:\\Users\\wubeshet.abera\\Projects\\Ten-Academy\\Fraud-detection-system\\venv\\Lib\\site-packages\\keras\\src\\layers\\rnn\\rnn.py:204: UserWarning: Do not pass an `input_shape`/`input_dim` argument to a layer. When using Sequential models, prefer using an `Input(shape)` object as the first layer in the model instead.\n",
      "  super().__init__(**kwargs)\n"
     ]
    },
    {
     "name": "stdout",
     "output_type": "stream",
     "text": [
      "\u001b[1m2838/2838\u001b[0m \u001b[32m━━━━━━━━━━━━━━━━━━━━\u001b[0m\u001b[37m\u001b[0m \u001b[1m6s\u001b[0m 1ms/step - accuracy: 0.9932 - loss: 0.0717 - val_accuracy: 0.9993 - val_loss: 0.0041\n",
      "Epoch 2/10\n",
      "\u001b[1m2838/2838\u001b[0m \u001b[32m━━━━━━━━━━━━━━━━━━━━\u001b[0m\u001b[37m\u001b[0m \u001b[1m4s\u001b[0m 1ms/step - accuracy: 0.9994 - loss: 0.0029 - val_accuracy: 0.9993 - val_loss: 0.0036\n",
      "Epoch 3/10\n",
      "\u001b[1m2838/2838\u001b[0m \u001b[32m━━━━━━━━━━━━━━━━━━━━\u001b[0m\u001b[37m\u001b[0m \u001b[1m4s\u001b[0m 1ms/step - accuracy: 0.9994 - loss: 0.0031 - val_accuracy: 0.9992 - val_loss: 0.0036\n",
      "Epoch 4/10\n",
      "\u001b[1m2838/2838\u001b[0m \u001b[32m━━━━━━━━━━━━━━━━━━━━\u001b[0m\u001b[37m\u001b[0m \u001b[1m4s\u001b[0m 1ms/step - accuracy: 0.9995 - loss: 0.0025 - val_accuracy: 0.9993 - val_loss: 0.0033\n",
      "Epoch 5/10\n",
      "\u001b[1m2838/2838\u001b[0m \u001b[32m━━━━━━━━━━━━━━━━━━━━\u001b[0m\u001b[37m\u001b[0m \u001b[1m5s\u001b[0m 2ms/step - accuracy: 0.9994 - loss: 0.0024 - val_accuracy: 0.9993 - val_loss: 0.0034\n",
      "Epoch 6/10\n",
      "\u001b[1m2838/2838\u001b[0m \u001b[32m━━━━━━━━━━━━━━━━━━━━\u001b[0m\u001b[37m\u001b[0m \u001b[1m5s\u001b[0m 2ms/step - accuracy: 0.9994 - loss: 0.0025 - val_accuracy: 0.9992 - val_loss: 0.0036\n",
      "Epoch 7/10\n",
      "\u001b[1m2838/2838\u001b[0m \u001b[32m━━━━━━━━━━━━━━━━━━━━\u001b[0m\u001b[37m\u001b[0m \u001b[1m5s\u001b[0m 2ms/step - accuracy: 0.9995 - loss: 0.0020 - val_accuracy: 0.9992 - val_loss: 0.0031\n",
      "Epoch 8/10\n",
      "\u001b[1m2838/2838\u001b[0m \u001b[32m━━━━━━━━━━━━━━━━━━━━\u001b[0m\u001b[37m\u001b[0m \u001b[1m4s\u001b[0m 2ms/step - accuracy: 0.9995 - loss: 0.0022 - val_accuracy: 0.9992 - val_loss: 0.0037\n",
      "Epoch 9/10\n",
      "\u001b[1m2838/2838\u001b[0m \u001b[32m━━━━━━━━━━━━━━━━━━━━\u001b[0m\u001b[37m\u001b[0m \u001b[1m5s\u001b[0m 2ms/step - accuracy: 0.9995 - loss: 0.0026 - val_accuracy: 0.9993 - val_loss: 0.0032\n",
      "Epoch 10/10\n",
      "\u001b[1m2838/2838\u001b[0m \u001b[32m━━━━━━━━━━━━━━━━━━━━\u001b[0m\u001b[37m\u001b[0m \u001b[1m5s\u001b[0m 2ms/step - accuracy: 0.9995 - loss: 0.0024 - val_accuracy: 0.9993 - val_loss: 0.0034\n",
      "\u001b[1m1774/1774\u001b[0m \u001b[32m━━━━━━━━━━━━━━━━━━━━\u001b[0m\u001b[37m\u001b[0m \u001b[1m2s\u001b[0m 803us/step\n",
      "Credit Data - LSTM Model\n",
      "              precision    recall  f1-score   support\n",
      "\n",
      "           0       1.00      1.00      1.00     56656\n",
      "           1       0.88      0.78      0.82        90\n",
      "\n",
      "    accuracy                           1.00     56746\n",
      "   macro avg       0.94      0.89      0.91     56746\n",
      "weighted avg       1.00      1.00      1.00     56746\n",
      "\n"
     ]
    }
   ],
   "source": [
    "import numpy as np\n",
    "from tensorflow.keras.models import Sequential\n",
    "from tensorflow.keras.layers import Dense, LSTM, Dropout\n",
    "from tensorflow.keras.optimizers import Adam\n",
    "from sklearn.model_selection import train_test_split\n",
    "from sklearn.metrics import classification_report\n",
    "\n",
    "# Assuming X_credit and y_credit are already prepared\n",
    "\n",
    "# Create LSTM Model\n",
    "def create_lstm_model(input_shape):\n",
    "    model = Sequential()\n",
    "    \n",
    "    # LSTM layer with 64 units\n",
    "    model.add(LSTM(units=64, activation='tanh', input_shape=input_shape))\n",
    "    \n",
    "    # Dropout to prevent overfitting\n",
    "    model.add(Dropout(0.5))\n",
    "    \n",
    "    # Fully connected layers\n",
    "    model.add(Dense(32, activation='relu'))\n",
    "    model.add(Dense(1, activation='sigmoid'))  # Binary classification output\n",
    "    \n",
    "    # Compile the model\n",
    "    model.compile(optimizer=Adam(), loss='binary_crossentropy', metrics=['accuracy'])\n",
    "    \n",
    "    return model\n",
    "\n",
    "# Train-test split for credit data\n",
    "X_credit_train, X_credit_test, y_credit_train, y_credit_test = train_test_split(X_credit, y_credit, test_size=0.2, random_state=42)\n",
    "\n",
    "# Reshape data to (samples, timesteps, features) for LSTM input\n",
    "X_credit_train_lstm = np.expand_dims(X_credit_train, axis=1)\n",
    "X_credit_test_lstm = np.expand_dims(X_credit_test, axis=1)\n",
    "\n",
    "# Build and train the LSTM model for credit data\n",
    "lstm_model_credit = create_lstm_model(X_credit_train_lstm.shape[1:])\n",
    "lstm_model_credit.fit(X_credit_train_lstm, y_credit_train, epochs=10, batch_size=64, validation_split=0.2)\n",
    "\n",
    "# Evaluate the LSTM model for credit data\n",
    "credit_pred_lstm = lstm_model_credit.predict(X_credit_test_lstm)\n",
    "credit_pred_lstm = np.round(credit_pred_lstm)\n",
    "\n",
    "print(\"Credit Data - LSTM Model\")\n",
    "print(classification_report(y_credit_test, credit_pred_lstm))\n"
   ]
  }
 ],
 "metadata": {
  "kernelspec": {
   "display_name": "venv",
   "language": "python",
   "name": "python3"
  },
  "language_info": {
   "codemirror_mode": {
    "name": "ipython",
    "version": 3
   },
   "file_extension": ".py",
   "mimetype": "text/x-python",
   "name": "python",
   "nbconvert_exporter": "python",
   "pygments_lexer": "ipython3",
   "version": "3.12.3"
  }
 },
 "nbformat": 4,
 "nbformat_minor": 2
}
