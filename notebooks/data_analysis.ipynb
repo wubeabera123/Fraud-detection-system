{
 "cells": [
  {
   "cell_type": "markdown",
   "metadata": {},
   "source": [
    "# Import the necessary libraries"
   ]
  },
  {
   "cell_type": "code",
   "execution_count": 5,
   "metadata": {},
   "outputs": [],
   "source": [
    "import pandas as pd\n",
    "import sys\n",
    "import os\n",
    "import matplotlib.pyplot as plt\n",
    "import seaborn as sns\n",
    "import logging\n",
    "import pandas as pd\n",
    " \n",
    "# Configure logging\n",
    "logging.basicConfig(filename='../logs/',\n",
    "                    level=logging.INFO,\n",
    "                    format='%(asctime)s:%(levelname)s:%(message)s')\n",
    "  \n",
    "\n",
    "sys.path.append(os.path.abspath(os.path.join(os.getcwd(), '../scripts')))\n",
    "from load_csv_data import Load_CSV_Data\n"
   ]
  },
  {
   "cell_type": "markdown",
   "metadata": {},
   "source": [
    "# Load the data sets"
   ]
  },
  {
   "cell_type": "code",
   "execution_count": 6,
   "metadata": {},
   "outputs": [
    {
     "name": "stdout",
     "output_type": "stream",
     "text": [
      "Data successfully loaded from ../data/cleaned_credit_card_data.csv\n"
     ]
    }
   ],
   "source": [
    "credit_df = Load_CSV_Data('../data/cleaned_credit_card_data.csv')\n",
    "credit_df.load_csv_data()\n",
    "credit_df = credit_df.get_data()"
   ]
  },
  {
   "cell_type": "code",
   "execution_count": 7,
   "metadata": {},
   "outputs": [
    {
     "name": "stdout",
     "output_type": "stream",
     "text": [
      "Data successfully loaded from ../data/cleaned_fraud_data.csv\n"
     ]
    }
   ],
   "source": [
    "fraud_df = Load_CSV_Data('../data/cleaned_fraud_data.csv')\n",
    "fraud_df.load_csv_data()\n",
    "fraud_df = fraud_df.get_data()"
   ]
  },
  {
   "cell_type": "code",
   "execution_count": 8,
   "metadata": {},
   "outputs": [
    {
     "name": "stdout",
     "output_type": "stream",
     "text": [
      "Data successfully loaded from ../data/cleaned_IpAddress_to_Country.csv\n"
     ]
    }
   ],
   "source": [
    "ip_df = Load_CSV_Data('../data/cleaned_IpAddress_to_Country.csv')\n",
    "ip_df.load_csv_data()\n",
    "ip_df = ip_df.get_data()"
   ]
  },
  {
   "cell_type": "markdown",
   "metadata": {},
   "source": [
    "# Merge the data sets"
   ]
  },
  {
   "cell_type": "code",
   "execution_count": 9,
   "metadata": {},
   "outputs": [
    {
     "name": "stdout",
     "output_type": "stream",
     "text": [
      "Merged dataset saved as 'merged_fraud_geolocation_data.csv'\n"
     ]
    }
   ],
   "source": [
    "# Convert the 'ip_address' in df_user_cleaned to integer (if not already)\n",
    "fraud_df['ip_address'] = fraud_df['ip_address'].astype(float)\n",
    "\n",
    "# Merge fraud data with IP address geolocation data based on IP address range\n",
    "def merge_ip_geolocation(fraud_df, ip_df):\n",
    "    \"\"\"\n",
    "    Merges fraud dataset with IP geolocation dataset.\n",
    "    \n",
    "    Parameters:\n",
    "    fraud_df (pd.DataFrame): Fraud dataset with 'ip_address' column.\n",
    "    ip_df (pd.DataFrame): IP geolocation dataset with 'lower_bound_ip_address' and 'upper_bound_ip_address' columns.\n",
    "    \n",
    "    Returns:\n",
    "    pd.DataFrame: Merged dataset.\n",
    "    \"\"\"\n",
    "    merged_data = pd.merge_asof(\n",
    "        fraud_df.sort_values('ip_address'),  # Sort fraud data by IP\n",
    "        ip_df.sort_values('lower_bound_ip_address'),  # Sort IP data by lower bound\n",
    "        left_on='ip_address',  # Merge on ip_address from fraud data\n",
    "        right_on='lower_bound_ip_address',  # Merge on lower_bound_ip_address from IP geolocation data\n",
    "        direction='backward'  # Merge backward to match within the IP range\n",
    "    )\n",
    "\n",
    "    # Filter to keep only the rows where the IP is within the upper bound\n",
    "    merged_data = merged_data[merged_data['ip_address'] <= merged_data['upper_bound_ip_address']]\n",
    "    \n",
    "    return merged_data\n",
    "\n",
    "# Apply the merging function\n",
    "df_merged = merge_ip_geolocation(fraud_df, ip_df)\n",
    "\n",
    "df_merged.head()\n",
    "\n",
    "# Save the merged data\n",
    "df_merged.to_csv(\"../data/merged_fraud_geolocation_data.csv\", index=False)\n",
    "print(\"Merged dataset saved as 'merged_fraud_geolocation_data.csv'\")"
   ]
  }
 ],
 "metadata": {
  "kernelspec": {
   "display_name": "venv",
   "language": "python",
   "name": "python3"
  },
  "language_info": {
   "codemirror_mode": {
    "name": "ipython",
    "version": 3
   },
   "file_extension": ".py",
   "mimetype": "text/x-python",
   "name": "python",
   "nbconvert_exporter": "python",
   "pygments_lexer": "ipython3",
   "version": "3.12.3"
  }
 },
 "nbformat": 4,
 "nbformat_minor": 2
}
