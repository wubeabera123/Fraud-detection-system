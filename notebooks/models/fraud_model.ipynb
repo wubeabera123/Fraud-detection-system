{
 "cells": [
  {
   "cell_type": "markdown",
   "metadata": {},
   "source": [
    "# Import the necessary libraries"
   ]
  },
  {
   "cell_type": "code",
   "execution_count": 1,
   "metadata": {},
   "outputs": [],
   "source": [
    "import pandas as pd\n",
    "import sys\n",
    "import os\n",
    "import matplotlib.pyplot as plt\n",
    "import seaborn as sns\n",
    "import logging\n",
    "import pandas as pd\n",
    "import joblib\n",
    "\n",
    " \n",
    "# Configure logging\n",
    "logging.basicConfig(filename='../logs/',\n",
    "                    level=logging.INFO,\n",
    "                    format='%(asctime)s:%(levelname)s:%(message)s')\n",
    "  \n",
    "\n",
    "sys.path.append(os.path.abspath(os.path.join(os.getcwd(), '../../scripts')))\n",
    "from load_csv_data import Load_CSV_Data\n"
   ]
  },
  {
   "cell_type": "markdown",
   "metadata": {},
   "source": [
    "# Credit_Fraud_Detection_Experiment"
   ]
  },
  {
   "cell_type": "code",
   "execution_count": 2,
   "metadata": {},
   "outputs": [],
   "source": [
    "import mlflow\n",
    "import mlflow.sklearn\n",
    "\n",
    "# Set experiment name (same as credit data to log in the same experiment)\n",
    "mlflow.set_experiment(\"Credit_Fraud_Detection_Experiment\")\n",
    "\n",
    "# Function to run and log model experiments for fraud data\n",
    "def log_model_with_mlflow_fraud(model, X_train, X_test, y_train, y_test, model_name):\n",
    "    with mlflow.start_run(run_name=model_name):\n",
    "        # Train the model\n",
    "        model.fit(X_train, y_train)\n",
    "        \n",
    "        # Predict\n",
    "        y_pred = model.predict(X_test)\n",
    "\n",
    "        # Log parameters and metrics\n",
    "        accuracy = accuracy_score(y_test, y_pred)\n",
    "        precision = precision_score(y_test, y_pred)\n",
    "        recall = recall_score(y_test, y_pred)\n",
    "        f1 = f1_score(y_test, y_pred)\n",
    "\n",
    "        # Log metrics in MLflow\n",
    "        mlflow.log_metric(\"accuracy\", accuracy)\n",
    "        mlflow.log_metric(\"precision\", precision)\n",
    "        mlflow.log_metric(\"recall\", recall)\n",
    "        mlflow.log_metric(\"f1_score\", f1)\n",
    "\n",
    "        # Log the model itself\n",
    "        mlflow.sklearn.log_model(model, model_name)\n",
    "        \n",
    "        print(f\"{model_name} logged in MLflow with accuracy: {accuracy}\")\n"
   ]
  },
  {
   "cell_type": "markdown",
   "metadata": {},
   "source": [
    "# Load data"
   ]
  },
  {
   "cell_type": "code",
   "execution_count": 5,
   "metadata": {},
   "outputs": [
    {
     "name": "stdout",
     "output_type": "stream",
     "text": [
      "Data successfully loaded from ../../data/encoded_fraud_data.csv\n"
     ]
    }
   ],
   "source": [
    "fraud_df = Load_CSV_Data('../../data/encoded_fraud_data.csv')\n",
    "fraud_df.load_csv_data()\n",
    "fraud_df = fraud_df.get_data()"
   ]
  },
  {
   "cell_type": "code",
   "execution_count": 8,
   "metadata": {},
   "outputs": [
    {
     "name": "stdout",
     "output_type": "stream",
     "text": [
      "   user_id  purchase_value  age    ip_address  class  lower_bound_ip_address  \\\n",
      "0   247547              47   30  1.677886e+07      0              16778240.0   \n",
      "1   220737              15   34  1.684205e+07      0              16809984.0   \n",
      "\n",
      "   upper_bound_ip_address  transaction_velocity  purchase_hour  \\\n",
      "0              16779263.0             3632215.0              3   \n",
      "1              16842751.0             1231637.0             20   \n",
      "\n",
      "   purchase_day_of_week  country_encoded  browser_encoded  source_encoded  \\\n",
      "0                     6             1844            21074           51960   \n",
      "1                     2              291            52560           51960   \n",
      "\n",
      "   sex_M  device_id_target_encoded  signup_year  signup_month  signup_day  \\\n",
      "0  False                  0.082634         2015             6          28   \n",
      "1  False                  0.082634         2015             1          28   \n",
      "\n",
      "   signup_hour  purchase_year  purchase_month  purchase_day  time_diff_hours  \n",
      "0            3           2015               8             9      1008.948611  \n",
      "1           14           2015               2            11       342.121389  \n"
     ]
    }
   ],
   "source": [
    "# Display all columns with the first two rows\n",
    "pd.set_option('display.max_columns', None)  # Ensure all columns are visible\n",
    "print(fraud_df.head(2))  # Print the first two rows"
   ]
  },
  {
   "cell_type": "markdown",
   "metadata": {},
   "source": [
    "# Feature and target separation"
   ]
  },
  {
   "cell_type": "code",
   "execution_count": 10,
   "metadata": {},
   "outputs": [
    {
     "name": "stdout",
     "output_type": "stream",
     "text": [
      "Credit card data - Features: (129146, 13), Target: (129146,)\n"
     ]
    }
   ],
   "source": [
    "\n",
    "\n",
    "# Select important features for the fraud detection model\n",
    "important_features = [\n",
    "    'purchase_value',\n",
    "    'age',\n",
    "    'transaction_velocity',\n",
    "    'purchase_hour',\n",
    "    'purchase_day_of_week',\n",
    "    'country_encoded',\n",
    "    'browser_encoded',\n",
    "    'source_encoded',\n",
    "    'sex_M',\n",
    "    'signup_year',\n",
    "    'signup_month',\n",
    "    'signup_hour',\n",
    "    'time_diff_hours'\n",
    "]\n",
    "\n",
    "# Feature and Target separation\n",
    "X_fraud = fraud_df[important_features]  # Features\n",
    "y_fraud = fraud_df['class']              # Target (Class column)\n",
    "\n",
    "# Check the shape of the datasets to ensure separation is correct\n",
    "print(f\"Credit card data - Features: {X_fraud.shape}, Target: {y_fraud.shape}\")\n",
    "\n",
    "# Save X_fraud and y_fraud as CSV files for future use\n",
    "X_fraud.to_csv('../../data/splittedData/X_fraud.csv', index=False)\n",
    "y_fraud.to_csv('../../data/splittedData/y_fraud.csv', index=False)\n"
   ]
  },
  {
   "cell_type": "markdown",
   "metadata": {},
   "source": [
    "# Logistic regression"
   ]
  },
  {
   "cell_type": "code",
   "execution_count": 13,
   "metadata": {},
   "outputs": [
    {
     "name": "stdout",
     "output_type": "stream",
     "text": [
      "\n",
      "\n",
      "Logistic Regression for Fraud Data\n"
     ]
    },
    {
     "name": "stderr",
     "output_type": "stream",
     "text": [
      "c:\\Users\\wubeshet.abera\\Projects\\Ten-Academy\\Fraud-detection-system\\venv\\Lib\\site-packages\\sklearn\\metrics\\_classification.py:1531: UndefinedMetricWarning: Precision is ill-defined and being set to 0.0 due to no predicted samples. Use `zero_division` parameter to control this behavior.\n",
      "  _warn_prf(average, modifier, f\"{metric.capitalize()} is\", len(result))\n",
      "2024/10/27 12:24:46 WARNING mlflow.models.model: Model logged without a signature and input example. Please set `input_example` parameter when logging the model to auto infer the model signature.\n"
     ]
    },
    {
     "name": "stdout",
     "output_type": "stream",
     "text": [
      "Logistic_Regression_Fraud logged in MLflow with accuracy: 0.9049941927990709\n",
      "Fraud Data - Accuracy: 0.9050\n",
      "Fraud Data - Precision: 0.0000\n",
      "Fraud Data - Recall: 0.0000\n",
      "Fraud Data - F1-Score: 0.0000\n",
      "\n",
      "Classification Report for Fraud Data:\n",
      "               precision    recall  f1-score   support\n",
      "\n",
      "           0       0.90      1.00      0.95     23376\n",
      "           1       0.00      0.00      0.00      2454\n",
      "\n",
      "    accuracy                           0.90     25830\n",
      "   macro avg       0.45      0.50      0.48     25830\n",
      "weighted avg       0.82      0.90      0.86     25830\n",
      "\n",
      "\n",
      "Confusion Matrix for Fraud Data:\n",
      " [[23376     0]\n",
      " [ 2454     0]]\n"
     ]
    },
    {
     "name": "stderr",
     "output_type": "stream",
     "text": [
      "c:\\Users\\wubeshet.abera\\Projects\\Ten-Academy\\Fraud-detection-system\\venv\\Lib\\site-packages\\sklearn\\metrics\\_classification.py:1531: UndefinedMetricWarning: Precision is ill-defined and being set to 0.0 due to no predicted samples. Use `zero_division` parameter to control this behavior.\n",
      "  _warn_prf(average, modifier, f\"{metric.capitalize()} is\", len(result))\n",
      "c:\\Users\\wubeshet.abera\\Projects\\Ten-Academy\\Fraud-detection-system\\venv\\Lib\\site-packages\\sklearn\\metrics\\_classification.py:1531: UndefinedMetricWarning: Precision is ill-defined and being set to 0.0 in labels with no predicted samples. Use `zero_division` parameter to control this behavior.\n",
      "  _warn_prf(average, modifier, f\"{metric.capitalize()} is\", len(result))\n",
      "c:\\Users\\wubeshet.abera\\Projects\\Ten-Academy\\Fraud-detection-system\\venv\\Lib\\site-packages\\sklearn\\metrics\\_classification.py:1531: UndefinedMetricWarning: Precision is ill-defined and being set to 0.0 in labels with no predicted samples. Use `zero_division` parameter to control this behavior.\n",
      "  _warn_prf(average, modifier, f\"{metric.capitalize()} is\", len(result))\n",
      "c:\\Users\\wubeshet.abera\\Projects\\Ten-Academy\\Fraud-detection-system\\venv\\Lib\\site-packages\\sklearn\\metrics\\_classification.py:1531: UndefinedMetricWarning: Precision is ill-defined and being set to 0.0 in labels with no predicted samples. Use `zero_division` parameter to control this behavior.\n",
      "  _warn_prf(average, modifier, f\"{metric.capitalize()} is\", len(result))\n"
     ]
    }
   ],
   "source": [
    "from sklearn.model_selection import train_test_split\n",
    "from sklearn.linear_model import LogisticRegression\n",
    "from sklearn.metrics import accuracy_score, precision_score, recall_score, f1_score, confusion_matrix, classification_report\n",
    "\n",
    "# Fraud Data - Logistic Regression\n",
    "print(\"\\n\\nLogistic Regression for Fraud Data\")\n",
    "\n",
    "# Split the fraud data into training and testing sets (80% train, 20% test)\n",
    "X_train_fraud, X_test_fraud, y_train_fraud, y_test_fraud = train_test_split(X_fraud, y_fraud, test_size=0.2, random_state=42, stratify=y_fraud)\n",
    "\n",
    "# Initialize the Logistic Regression model\n",
    "log_reg_fraud = LogisticRegression(max_iter=1000)\n",
    "\n",
    "log_model_with_mlflow_fraud(log_reg_fraud, X_train_fraud, X_test_fraud, y_train_fraud, y_test_fraud, \"Logistic_Regression_Fraud\")\n",
    "\n",
    "\n",
    "# Train the model on the training data\n",
    "log_reg_fraud.fit(X_train_fraud, y_train_fraud)\n",
    "\n",
    "# Save the trained Logistic Regression model\n",
    "joblib.dump(log_reg_fraud, '../../saved_models/logistic_regression_fraud_model.pkl')\n",
    "\n",
    "# Make predictions on the test data\n",
    "y_pred_fraud = log_reg_fraud.predict(X_test_fraud)\n",
    "\n",
    "# Evaluate the model performance\n",
    "accuracy_fraud = accuracy_score(y_test_fraud, y_pred_fraud)\n",
    "precision_fraud = precision_score(y_test_fraud, y_pred_fraud)\n",
    "recall_fraud = recall_score(y_test_fraud, y_pred_fraud)\n",
    "f1_fraud = f1_score(y_test_fraud, y_pred_fraud)\n",
    "\n",
    "# Print evaluation metrics\n",
    "print(f\"Fraud Data - Accuracy: {accuracy_fraud:.4f}\")\n",
    "print(f\"Fraud Data - Precision: {precision_fraud:.4f}\")\n",
    "print(f\"Fraud Data - Recall: {recall_fraud:.4f}\")\n",
    "print(f\"Fraud Data - F1-Score: {f1_fraud:.4f}\")\n",
    "print(\"\\nClassification Report for Fraud Data:\\n\", classification_report(y_test_fraud, y_pred_fraud))\n",
    "print(\"\\nConfusion Matrix for Fraud Data:\\n\", confusion_matrix(y_test_fraud, y_pred_fraud))"
   ]
  },
  {
   "cell_type": "markdown",
   "metadata": {},
   "source": [
    "# Decision tree"
   ]
  },
  {
   "cell_type": "code",
   "execution_count": 14,
   "metadata": {},
   "outputs": [
    {
     "name": "stderr",
     "output_type": "stream",
     "text": [
      "2024/10/27 12:25:21 WARNING mlflow.models.model: Model logged without a signature and input example. Please set `input_example` parameter when logging the model to auto infer the model signature.\n"
     ]
    },
    {
     "name": "stdout",
     "output_type": "stream",
     "text": [
      "Decision_Tree_Fraud logged in MLflow with accuracy: 0.902826171118854\n",
      "Fraud Data - Decision Tree Results:\n",
      "Accuracy: 0.9028\n",
      "Precision: 0.4826\n",
      "Recall: 0.5682\n",
      "F1-Score: 0.5219\n"
     ]
    }
   ],
   "source": [
    "from sklearn.tree import DecisionTreeClassifier\n",
    "from sklearn.metrics import accuracy_score, precision_score, recall_score, f1_score\n",
    "from sklearn.model_selection import train_test_split\n",
    "\n",
    "# Assuming X_fraud and y_fraud are already defined (features and target)\n",
    "# Train-test split\n",
    "X_train_fraud, X_test_fraud, y_train_fraud, y_test_fraud = train_test_split(X_fraud, y_fraud, test_size=0.2, random_state=42)\n",
    "\n",
    "# Initialize the Decision Tree Classifier\n",
    "dt_fraud = DecisionTreeClassifier(random_state=42)\n",
    "\n",
    "log_model_with_mlflow_fraud(dt_fraud, X_train_fraud, X_test_fraud, y_train_fraud, y_test_fraud, \"Decision_Tree_Fraud\")\n",
    "\n",
    "\n",
    "# Train the model\n",
    "dt_fraud.fit(X_train_fraud, y_train_fraud)\n",
    "\n",
    "# Save the trained  model\n",
    "joblib.dump(dt_fraud, '../../saved_models/decision_tree_fraud_model.pkl')\n",
    "\n",
    "# Make predictions on the test set\n",
    "y_pred_fraud = dt_fraud.predict(X_test_fraud)\n",
    "\n",
    "# Evaluate the model\n",
    "accuracy_fraud = accuracy_score(y_test_fraud, y_pred_fraud)\n",
    "precision_fraud = precision_score(y_test_fraud, y_pred_fraud)\n",
    "recall_fraud = recall_score(y_test_fraud, y_pred_fraud)\n",
    "f1_fraud = f1_score(y_test_fraud, y_pred_fraud)\n",
    "\n",
    "# Print the evaluation results\n",
    "print(f\"Fraud Data - Decision Tree Results:\")\n",
    "print(f\"Accuracy: {accuracy_fraud:.4f}\")\n",
    "print(f\"Precision: {precision_fraud:.4f}\")\n",
    "print(f\"Recall: {recall_fraud:.4f}\")\n",
    "print(f\"F1-Score: {f1_fraud:.4f}\")\n"
   ]
  },
  {
   "cell_type": "markdown",
   "metadata": {},
   "source": [
    "# Random Forest"
   ]
  },
  {
   "cell_type": "code",
   "execution_count": 15,
   "metadata": {},
   "outputs": [
    {
     "name": "stderr",
     "output_type": "stream",
     "text": [
      "2024/10/27 12:26:00 WARNING mlflow.models.model: Model logged without a signature and input example. Please set `input_example` parameter when logging the model to auto infer the model signature.\n"
     ]
    },
    {
     "name": "stdout",
     "output_type": "stream",
     "text": [
      "Random_Forest_Fraud logged in MLflow with accuracy: 0.9569879984514131\n",
      "Fraud Data - Random Forest Results:\n",
      "Accuracy: 0.9570\n",
      "Precision: 1.0000\n",
      "Recall: 0.5392\n",
      "F1-Score: 0.7006\n"
     ]
    }
   ],
   "source": [
    "from sklearn.ensemble import RandomForestClassifier\n",
    "from sklearn.metrics import accuracy_score, precision_score, recall_score, f1_score\n",
    "from sklearn.model_selection import train_test_split\n",
    "\n",
    "# Assuming X_fraud and y_fraud are already defined (features and target)\n",
    "# Train-test split\n",
    "X_train_fraud, X_test_fraud, y_train_fraud, y_test_fraud = train_test_split(X_fraud, y_fraud, test_size=0.2, random_state=42)\n",
    "\n",
    "# Initialize the Random Forest Classifier\n",
    "rf_fraud = RandomForestClassifier(random_state=42, n_estimators=100)\n",
    "\n",
    "log_model_with_mlflow_fraud(rf_fraud, X_train_fraud, X_test_fraud, y_train_fraud, y_test_fraud, \"Random_Forest_Fraud\")\n",
    "\n",
    "\n",
    "# Train the model\n",
    "rf_fraud.fit(X_train_fraud, y_train_fraud)\n",
    "\n",
    "# Save the trained  model\n",
    "joblib.dump(rf_fraud, '../../saved_models/random_forest_fraud_model.pkl')\n",
    "\n",
    "# Make predictions on the test set\n",
    "y_pred_fraud = rf_fraud.predict(X_test_fraud)\n",
    "\n",
    "# Evaluate the model\n",
    "accuracy_fraud = accuracy_score(y_test_fraud, y_pred_fraud)\n",
    "precision_fraud = precision_score(y_test_fraud, y_pred_fraud)\n",
    "recall_fraud = recall_score(y_test_fraud, y_pred_fraud)\n",
    "f1_fraud = f1_score(y_test_fraud, y_pred_fraud)\n",
    "\n",
    "# Print the evaluation results\n",
    "print(f\"Fraud Data - Random Forest Results:\")\n",
    "print(f\"Accuracy: {accuracy_fraud:.4f}\")\n",
    "print(f\"Precision: {precision_fraud:.4f}\")\n",
    "print(f\"Recall: {recall_fraud:.4f}\")\n",
    "print(f\"F1-Score: {f1_fraud:.4f}\")\n"
   ]
  },
  {
   "cell_type": "markdown",
   "metadata": {},
   "source": [
    "# Gradient Boosting"
   ]
  },
  {
   "cell_type": "code",
   "execution_count": 16,
   "metadata": {},
   "outputs": [
    {
     "name": "stderr",
     "output_type": "stream",
     "text": [
      "2024/10/27 12:27:01 WARNING mlflow.models.model: Model logged without a signature and input example. Please set `input_example` parameter when logging the model to auto infer the model signature.\n"
     ]
    },
    {
     "name": "stdout",
     "output_type": "stream",
     "text": [
      "Gradient_Boosting_Fraud logged in MLflow with accuracy: 0.9569879984514131\n",
      "Fraud Data - Gradient Boosting Results:\n",
      "Accuracy: 0.9570\n",
      "Precision: 1.0000\n",
      "Recall: 0.5392\n",
      "F1-Score: 0.7006\n"
     ]
    }
   ],
   "source": [
    "from sklearn.ensemble import GradientBoostingClassifier\n",
    "from sklearn.metrics import accuracy_score, precision_score, recall_score, f1_score\n",
    "from sklearn.model_selection import train_test_split\n",
    "\n",
    "# Assuming X_fraud and y_fraud are already defined (features and target)\n",
    "# Train-test split\n",
    "X_train_fraud, X_test_fraud, y_train_fraud, y_test_fraud = train_test_split(X_fraud, y_fraud, test_size=0.2, random_state=42)\n",
    "\n",
    "# Initialize the Gradient Boosting Classifier\n",
    "gb_fraud = GradientBoostingClassifier(random_state=42, n_estimators=100, learning_rate=0.1)\n",
    "\n",
    "log_model_with_mlflow_fraud(gb_fraud, X_train_fraud, X_test_fraud, y_train_fraud, y_test_fraud, \"Gradient_Boosting_Fraud\")\n",
    "\n",
    "\n",
    "# Train the model\n",
    "gb_fraud.fit(X_train_fraud, y_train_fraud)\n",
    "\n",
    "# Save the trained  model\n",
    "joblib.dump(gb_fraud, '../../saved_models/gradient_boosting_fraud_model.pkl')\n",
    "\n",
    "# Make predictions on the test set\n",
    "y_pred_fraud = gb_fraud.predict(X_test_fraud)\n",
    "\n",
    "# Evaluate the model\n",
    "accuracy_fraud = accuracy_score(y_test_fraud, y_pred_fraud)\n",
    "precision_fraud = precision_score(y_test_fraud, y_pred_fraud)\n",
    "recall_fraud = recall_score(y_test_fraud, y_pred_fraud)\n",
    "f1_fraud = f1_score(y_test_fraud, y_pred_fraud)\n",
    "\n",
    "# Print the evaluation results\n",
    "print(f\"Fraud Data - Gradient Boosting Results:\")\n",
    "print(f\"Accuracy: {accuracy_fraud:.4f}\")\n",
    "print(f\"Precision: {precision_fraud:.4f}\")\n",
    "print(f\"Recall: {recall_fraud:.4f}\")\n",
    "print(f\"F1-Score: {f1_fraud:.4f}\")\n"
   ]
  },
  {
   "cell_type": "markdown",
   "metadata": {},
   "source": [
    "# Multi-Layer Perceptron (MLP)"
   ]
  },
  {
   "cell_type": "code",
   "execution_count": 17,
   "metadata": {},
   "outputs": [
    {
     "name": "stderr",
     "output_type": "stream",
     "text": [
      "2024/10/27 12:27:53 WARNING mlflow.models.model: Model logged without a signature and input example. Please set `input_example` parameter when logging the model to auto infer the model signature.\n"
     ]
    },
    {
     "name": "stdout",
     "output_type": "stream",
     "text": [
      "MLP_Fraud logged in MLflow with accuracy: 0.9569105691056911\n",
      "Fraud Data - MLP Results:\n",
      "Accuracy: 0.9569\n",
      "Precision: 0.9977\n",
      "Recall: 0.5396\n",
      "F1-Score: 0.7004\n"
     ]
    }
   ],
   "source": [
    "from sklearn.neural_network import MLPClassifier\n",
    "from sklearn.metrics import accuracy_score, precision_score, recall_score, f1_score\n",
    "from sklearn.model_selection import train_test_split\n",
    "\n",
    "# Train-test split for fraud data\n",
    "X_train_fraud, X_test_fraud, y_train_fraud, y_test_fraud = train_test_split(X_fraud, y_fraud, test_size=0.2, random_state=42)\n",
    "\n",
    "# Initialize the MLP Classifier\n",
    "mlp_fraud = MLPClassifier(hidden_layer_sizes=(100, 50), max_iter=300, random_state=42)\n",
    "\n",
    "log_model_with_mlflow_fraud(mlp_fraud, X_train_fraud, X_test_fraud, y_train_fraud, y_test_fraud, \"MLP_Fraud\")\n",
    "\n",
    "\n",
    "# Train the model\n",
    "mlp_fraud.fit(X_train_fraud, y_train_fraud)\n",
    "\n",
    "# Save the trained  model\n",
    "joblib.dump(mlp_fraud, '../../saved_models/MLP_fraud_model.pkl')\n",
    "\n",
    "# Make predictions on the test set\n",
    "y_pred_fraud = mlp_fraud.predict(X_test_fraud)\n",
    "\n",
    "# Evaluate the model\n",
    "accuracy_fraud = accuracy_score(y_test_fraud, y_pred_fraud)\n",
    "precision_fraud = precision_score(y_test_fraud, y_pred_fraud)\n",
    "recall_fraud = recall_score(y_test_fraud, y_pred_fraud)\n",
    "f1_fraud = f1_score(y_test_fraud, y_pred_fraud)\n",
    "\n",
    "# Print the evaluation results\n",
    "print(f\"Fraud Data - MLP Results:\")\n",
    "print(f\"Accuracy: {accuracy_fraud:.4f}\")\n",
    "print(f\"Precision: {precision_fraud:.4f}\")\n",
    "print(f\"Recall: {recall_fraud:.4f}\")\n",
    "print(f\"F1-Score: {f1_fraud:.4f}\")\n"
   ]
  },
  {
   "cell_type": "markdown",
   "metadata": {},
   "source": [
    "# Convolutional Neural Network (CNN)"
   ]
  },
  {
   "cell_type": "code",
   "execution_count": 18,
   "metadata": {},
   "outputs": [
    {
     "name": "stdout",
     "output_type": "stream",
     "text": [
      "Epoch 1/10\n"
     ]
    },
    {
     "name": "stderr",
     "output_type": "stream",
     "text": [
      "c:\\Users\\wubeshet.abera\\Projects\\Ten-Academy\\Fraud-detection-system\\venv\\Lib\\site-packages\\keras\\src\\layers\\convolutional\\base_conv.py:107: UserWarning: Do not pass an `input_shape`/`input_dim` argument to a layer. When using Sequential models, prefer using an `Input(shape)` object as the first layer in the model instead.\n",
      "  super().__init__(activity_regularizer=activity_regularizer, **kwargs)\n"
     ]
    },
    {
     "name": "stdout",
     "output_type": "stream",
     "text": [
      "\u001b[1m2583/2583\u001b[0m \u001b[32m━━━━━━━━━━━━━━━━━━━━\u001b[0m\u001b[37m\u001b[0m \u001b[1m10s\u001b[0m 3ms/step - accuracy: 0.8792 - loss: 1423826.6250 - val_accuracy: 0.9038 - val_loss: 1.3671\n",
      "Epoch 2/10\n",
      "\u001b[1m2583/2583\u001b[0m \u001b[32m━━━━━━━━━━━━━━━━━━━━\u001b[0m\u001b[37m\u001b[0m \u001b[1m8s\u001b[0m 3ms/step - accuracy: 0.9045 - loss: 0.3362 - val_accuracy: 0.9029 - val_loss: 2.4110\n",
      "Epoch 3/10\n",
      "\u001b[1m2583/2583\u001b[0m \u001b[32m━━━━━━━━━━━━━━━━━━━━\u001b[0m\u001b[37m\u001b[0m \u001b[1m7s\u001b[0m 3ms/step - accuracy: 0.9032 - loss: 0.6091 - val_accuracy: 0.9038 - val_loss: 1.3875\n",
      "Epoch 4/10\n",
      "\u001b[1m2583/2583\u001b[0m \u001b[32m━━━━━━━━━━━━━━━━━━━━\u001b[0m\u001b[37m\u001b[0m \u001b[1m7s\u001b[0m 3ms/step - accuracy: 0.9061 - loss: 0.4762 - val_accuracy: 0.9038 - val_loss: 0.3166\n",
      "Epoch 5/10\n",
      "\u001b[1m2583/2583\u001b[0m \u001b[32m━━━━━━━━━━━━━━━━━━━━\u001b[0m\u001b[37m\u001b[0m \u001b[1m7s\u001b[0m 3ms/step - accuracy: 0.9054 - loss: 0.3130 - val_accuracy: 0.9038 - val_loss: 0.3166\n",
      "Epoch 6/10\n",
      "\u001b[1m2583/2583\u001b[0m \u001b[32m━━━━━━━━━━━━━━━━━━━━\u001b[0m\u001b[37m\u001b[0m \u001b[1m7s\u001b[0m 3ms/step - accuracy: 0.9046 - loss: 0.3149 - val_accuracy: 0.9038 - val_loss: 0.3166\n",
      "Epoch 7/10\n",
      "\u001b[1m2583/2583\u001b[0m \u001b[32m━━━━━━━━━━━━━━━━━━━━\u001b[0m\u001b[37m\u001b[0m \u001b[1m7s\u001b[0m 3ms/step - accuracy: 0.9047 - loss: 0.3147 - val_accuracy: 0.9038 - val_loss: 0.3166\n",
      "Epoch 8/10\n",
      "\u001b[1m2583/2583\u001b[0m \u001b[32m━━━━━━━━━━━━━━━━━━━━\u001b[0m\u001b[37m\u001b[0m \u001b[1m7s\u001b[0m 3ms/step - accuracy: 0.9054 - loss: 0.3132 - val_accuracy: 0.9038 - val_loss: 0.3166\n",
      "Epoch 9/10\n",
      "\u001b[1m2583/2583\u001b[0m \u001b[32m━━━━━━━━━━━━━━━━━━━━\u001b[0m\u001b[37m\u001b[0m \u001b[1m7s\u001b[0m 3ms/step - accuracy: 0.9050 - loss: 0.3140 - val_accuracy: 0.9038 - val_loss: 0.3166\n",
      "Epoch 10/10\n",
      "\u001b[1m2583/2583\u001b[0m \u001b[32m━━━━━━━━━━━━━━━━━━━━\u001b[0m\u001b[37m\u001b[0m \u001b[1m7s\u001b[0m 3ms/step - accuracy: 0.9050 - loss: 0.3139 - val_accuracy: 0.9038 - val_loss: 0.3166\n"
     ]
    },
    {
     "name": "stderr",
     "output_type": "stream",
     "text": [
      "2024/10/27 12:29:56 WARNING mlflow.keras.save: You are saving a Keras model without specifying model signature.\n",
      "2024/10/27 12:30:02 WARNING mlflow.models.model: Model logged without a signature and input example. Please set `input_example` parameter when logging the model to auto infer the model signature.\n"
     ]
    },
    {
     "name": "stdout",
     "output_type": "stream",
     "text": [
      "\u001b[1m808/808\u001b[0m \u001b[32m━━━━━━━━━━━━━━━━━━━━\u001b[0m\u001b[37m\u001b[0m \u001b[1m1s\u001b[0m 2ms/step\n",
      "Fraud Data - CNN Results:\n",
      "Accuracy: 0.9067\n",
      "Precision: 0.0000\n",
      "Recall: 0.0000\n",
      "F1-Score: 0.0000\n"
     ]
    },
    {
     "name": "stderr",
     "output_type": "stream",
     "text": [
      "c:\\Users\\wubeshet.abera\\Projects\\Ten-Academy\\Fraud-detection-system\\venv\\Lib\\site-packages\\sklearn\\metrics\\_classification.py:1531: UndefinedMetricWarning: Precision is ill-defined and being set to 0.0 due to no predicted samples. Use `zero_division` parameter to control this behavior.\n",
      "  _warn_prf(average, modifier, f\"{metric.capitalize()} is\", len(result))\n"
     ]
    }
   ],
   "source": [
    "import pandas as pd\n",
    "import numpy as np\n",
    "from sklearn.preprocessing import LabelEncoder\n",
    "import tensorflow as tf\n",
    "from sklearn.model_selection import train_test_split\n",
    "from sklearn.metrics import accuracy_score, precision_score, recall_score, f1_score\n",
    "import mlflow\n",
    "import mlflow.keras\n",
    "\n",
    "# Assuming fraud_df is your DataFrame\n",
    "# fraud_df = pd.read_csv('your_data.csv')  # Load your dataset here\n",
    "\n",
    "# Step 1: Check for non-numeric columns and convert them\n",
    "for column in fraud_df.columns:\n",
    "    if fraud_df[column].dtype == 'object':\n",
    "        # Convert object columns to numeric using LabelEncoder\n",
    "        label_encoder = LabelEncoder()\n",
    "        fraud_df[column] = label_encoder.fit_transform(fraud_df[column])\n",
    "    elif fraud_df[column].dtype == 'bool':\n",
    "        # Convert boolean columns to int (0, 1)\n",
    "        fraud_df[column] = fraud_df[column].astype(int)\n",
    "\n",
    "# Step 2: Convert all integer columns to float to ensure compatibility with TensorFlow\n",
    "fraud_df = fraud_df.astype(float)\n",
    "\n",
    "# Step 3: Feature and target separation\n",
    "X_fraud = fraud_df.drop(columns=['class'])  # Assuming 'class' is the target\n",
    "y_fraud = fraud_df['class']\n",
    "\n",
    "# Step 4: Reshape the data for CNN (add a channel dimension for 1D CNN)\n",
    "X_fraud_reshaped = np.expand_dims(X_fraud.values, axis=2)\n",
    "\n",
    "# Step 5: Train-test split\n",
    "X_train_fraud, X_test_fraud, y_train_fraud, y_test_fraud = train_test_split(X_fraud_reshaped, y_fraud, test_size=0.2, random_state=42)\n",
    "\n",
    "# Step 6: CNN model definition\n",
    "def create_cnn_model(input_shape):\n",
    "    model = tf.keras.models.Sequential()\n",
    "    model.add(tf.keras.layers.Conv1D(filters=32, kernel_size=3, activation='relu', input_shape=input_shape))\n",
    "    model.add(tf.keras.layers.MaxPooling1D(pool_size=2))\n",
    "    model.add(tf.keras.layers.Conv1D(filters=64, kernel_size=3, activation='relu'))\n",
    "    model.add(tf.keras.layers.MaxPooling1D(pool_size=2))\n",
    "    model.add(tf.keras.layers.Flatten())\n",
    "    model.add(tf.keras.layers.Dense(64, activation='relu'))\n",
    "    model.add(tf.keras.layers.Dropout(0.5))\n",
    "    model.add(tf.keras.layers.Dense(1, activation='sigmoid'))  # Binary classification\n",
    "    model.compile(optimizer='adam', loss='binary_crossentropy', metrics=['accuracy'])\n",
    "    return model\n",
    "\n",
    "# Step 7: Create and train the CNN model with MLflow logging\n",
    "with mlflow.start_run(run_name=\"CNN_Fraud_Detection\"):\n",
    "    cnn_model_fraud = create_cnn_model(input_shape=(X_train_fraud.shape[1], 1))\n",
    "    \n",
    "    # Fit the model\n",
    "    history = cnn_model_fraud.fit(X_train_fraud, y_train_fraud, epochs=10, batch_size=32, validation_split=0.2)\n",
    "    \n",
    "    # Log the model and metrics\n",
    "    mlflow.keras.log_model(cnn_model_fraud, \"CNN_Fraud_Model\")\n",
    "    mlflow.log_param(\"epochs\", 10)\n",
    "    mlflow.log_param(\"batch_size\", 32)\n",
    "    \n",
    "    # Evaluate the model\n",
    "    y_pred_fraud = (cnn_model_fraud.predict(X_test_fraud) > 0.5).astype(\"int32\")\n",
    "    \n",
    "    # Calculate and log evaluation metrics\n",
    "    accuracy_fraud = accuracy_score(y_test_fraud, y_pred_fraud)\n",
    "    precision_fraud = precision_score(y_test_fraud, y_pred_fraud)\n",
    "    recall_fraud = recall_score(y_test_fraud, y_pred_fraud)\n",
    "    f1_fraud = f1_score(y_test_fraud, y_pred_fraud)\n",
    "\n",
    "    mlflow.log_metric(\"accuracy\", accuracy_fraud)\n",
    "    mlflow.log_metric(\"precision\", precision_fraud)\n",
    "    mlflow.log_metric(\"recall\", recall_fraud)\n",
    "    mlflow.log_metric(\"f1_score\", f1_fraud)\n",
    "\n",
    "    # Save the trained model using TensorFlow's save method\n",
    "    cnn_model_fraud.save('../../saved_models/CNN_fraud_model.h5')\n",
    "\n",
    "# Print evaluation results\n",
    "print(f\"Fraud Data - CNN Results:\")\n",
    "print(f\"Accuracy: {accuracy_fraud:.4f}\")\n",
    "print(f\"Precision: {precision_fraud:.4f}\")\n",
    "print(f\"Recall: {recall_fraud:.4f}\")\n",
    "print(f\"F1-Score: {f1_fraud:.4f}\")\n"
   ]
  },
  {
   "cell_type": "markdown",
   "metadata": {},
   "source": [
    "# Recurrent Neural Network (RNN)\n"
   ]
  },
  {
   "cell_type": "code",
   "execution_count": 19,
   "metadata": {},
   "outputs": [
    {
     "name": "stdout",
     "output_type": "stream",
     "text": [
      "Epoch 1/10\n"
     ]
    },
    {
     "name": "stderr",
     "output_type": "stream",
     "text": [
      "c:\\Users\\wubeshet.abera\\Projects\\Ten-Academy\\Fraud-detection-system\\venv\\Lib\\site-packages\\keras\\src\\layers\\rnn\\rnn.py:204: UserWarning: Do not pass an `input_shape`/`input_dim` argument to a layer. When using Sequential models, prefer using an `Input(shape)` object as the first layer in the model instead.\n",
      "  super().__init__(**kwargs)\n"
     ]
    },
    {
     "name": "stdout",
     "output_type": "stream",
     "text": [
      "\u001b[1m1292/1292\u001b[0m \u001b[32m━━━━━━━━━━━━━━━━━━━━\u001b[0m\u001b[37m\u001b[0m \u001b[1m4s\u001b[0m 2ms/step - accuracy: 0.8979 - loss: 0.3408 - val_accuracy: 0.9038 - val_loss: 0.3259\n",
      "Epoch 2/10\n",
      "\u001b[1m1292/1292\u001b[0m \u001b[32m━━━━━━━━━━━━━━━━━━━━\u001b[0m\u001b[37m\u001b[0m \u001b[1m2s\u001b[0m 1ms/step - accuracy: 0.9044 - loss: 0.3185 - val_accuracy: 0.9038 - val_loss: 0.3171\n",
      "Epoch 3/10\n",
      "\u001b[1m1292/1292\u001b[0m \u001b[32m━━━━━━━━━━━━━━━━━━━━\u001b[0m\u001b[37m\u001b[0m \u001b[1m2s\u001b[0m 2ms/step - accuracy: 0.9054 - loss: 0.3148 - val_accuracy: 0.9038 - val_loss: 0.3169\n",
      "Epoch 4/10\n",
      "\u001b[1m1292/1292\u001b[0m \u001b[32m━━━━━━━━━━━━━━━━━━━━\u001b[0m\u001b[37m\u001b[0m \u001b[1m2s\u001b[0m 2ms/step - accuracy: 0.9061 - loss: 0.3132 - val_accuracy: 0.9038 - val_loss: 0.3158\n",
      "Epoch 5/10\n",
      "\u001b[1m1292/1292\u001b[0m \u001b[32m━━━━━━━━━━━━━━━━━━━━\u001b[0m\u001b[37m\u001b[0m \u001b[1m2s\u001b[0m 2ms/step - accuracy: 0.9055 - loss: 0.3141 - val_accuracy: 0.9038 - val_loss: 0.3188\n",
      "Epoch 6/10\n",
      "\u001b[1m1292/1292\u001b[0m \u001b[32m━━━━━━━━━━━━━━━━━━━━\u001b[0m\u001b[37m\u001b[0m \u001b[1m2s\u001b[0m 1ms/step - accuracy: 0.9037 - loss: 0.3172 - val_accuracy: 0.9038 - val_loss: 0.3164\n",
      "Epoch 7/10\n",
      "\u001b[1m1292/1292\u001b[0m \u001b[32m━━━━━━━━━━━━━━━━━━━━\u001b[0m\u001b[37m\u001b[0m \u001b[1m2s\u001b[0m 1ms/step - accuracy: 0.9030 - loss: 0.3190 - val_accuracy: 0.9038 - val_loss: 0.3185\n",
      "Epoch 8/10\n",
      "\u001b[1m1292/1292\u001b[0m \u001b[32m━━━━━━━━━━━━━━━━━━━━\u001b[0m\u001b[37m\u001b[0m \u001b[1m2s\u001b[0m 1ms/step - accuracy: 0.9056 - loss: 0.3128 - val_accuracy: 0.9038 - val_loss: 0.3178\n",
      "Epoch 9/10\n",
      "\u001b[1m1292/1292\u001b[0m \u001b[32m━━━━━━━━━━━━━━━━━━━━\u001b[0m\u001b[37m\u001b[0m \u001b[1m2s\u001b[0m 2ms/step - accuracy: 0.9067 - loss: 0.3110 - val_accuracy: 0.9038 - val_loss: 0.3176\n",
      "Epoch 10/10\n",
      "\u001b[1m1292/1292\u001b[0m \u001b[32m━━━━━━━━━━━━━━━━━━━━\u001b[0m\u001b[37m\u001b[0m \u001b[1m2s\u001b[0m 1ms/step - accuracy: 0.9041 - loss: 0.3155 - val_accuracy: 0.9038 - val_loss: 0.3155\n"
     ]
    },
    {
     "name": "stderr",
     "output_type": "stream",
     "text": [
      "2024/10/27 12:30:48 WARNING mlflow.keras.save: You are saving a Keras model without specifying model signature.\n",
      "2024/10/27 12:30:54 WARNING mlflow.models.model: Model logged without a signature and input example. Please set `input_example` parameter when logging the model to auto infer the model signature.\n"
     ]
    },
    {
     "name": "stdout",
     "output_type": "stream",
     "text": [
      "\u001b[1m808/808\u001b[0m \u001b[32m━━━━━━━━━━━━━━━━━━━━\u001b[0m\u001b[37m\u001b[0m \u001b[1m1s\u001b[0m 1ms/step\n",
      "Fraud Data - RNN Model\n",
      "              precision    recall  f1-score   support\n",
      "\n",
      "         0.0       0.91      1.00      0.95     23419\n",
      "         1.0       0.00      0.00      0.00      2411\n",
      "\n",
      "    accuracy                           0.91     25830\n",
      "   macro avg       0.45      0.50      0.48     25830\n",
      "weighted avg       0.82      0.91      0.86     25830\n",
      "\n"
     ]
    },
    {
     "name": "stderr",
     "output_type": "stream",
     "text": [
      "c:\\Users\\wubeshet.abera\\Projects\\Ten-Academy\\Fraud-detection-system\\venv\\Lib\\site-packages\\sklearn\\metrics\\_classification.py:1531: UndefinedMetricWarning: Precision is ill-defined and being set to 0.0 in labels with no predicted samples. Use `zero_division` parameter to control this behavior.\n",
      "  _warn_prf(average, modifier, f\"{metric.capitalize()} is\", len(result))\n",
      "c:\\Users\\wubeshet.abera\\Projects\\Ten-Academy\\Fraud-detection-system\\venv\\Lib\\site-packages\\sklearn\\metrics\\_classification.py:1531: UndefinedMetricWarning: Precision is ill-defined and being set to 0.0 in labels with no predicted samples. Use `zero_division` parameter to control this behavior.\n",
      "  _warn_prf(average, modifier, f\"{metric.capitalize()} is\", len(result))\n",
      "c:\\Users\\wubeshet.abera\\Projects\\Ten-Academy\\Fraud-detection-system\\venv\\Lib\\site-packages\\sklearn\\metrics\\_classification.py:1531: UndefinedMetricWarning: Precision is ill-defined and being set to 0.0 in labels with no predicted samples. Use `zero_division` parameter to control this behavior.\n",
      "  _warn_prf(average, modifier, f\"{metric.capitalize()} is\", len(result))\n",
      "c:\\Users\\wubeshet.abera\\Projects\\Ten-Academy\\Fraud-detection-system\\venv\\Lib\\site-packages\\sklearn\\metrics\\_classification.py:1531: UndefinedMetricWarning: Precision is ill-defined and being set to 0.0 in labels with no predicted samples. Use `zero_division` parameter to control this behavior.\n",
      "  _warn_prf(average, modifier, f\"{metric.capitalize()} is\", len(result))\n",
      "c:\\Users\\wubeshet.abera\\Projects\\Ten-Academy\\Fraud-detection-system\\venv\\Lib\\site-packages\\sklearn\\metrics\\_classification.py:1531: UndefinedMetricWarning: Precision is ill-defined and being set to 0.0 in labels with no predicted samples. Use `zero_division` parameter to control this behavior.\n",
      "  _warn_prf(average, modifier, f\"{metric.capitalize()} is\", len(result))\n",
      "c:\\Users\\wubeshet.abera\\Projects\\Ten-Academy\\Fraud-detection-system\\venv\\Lib\\site-packages\\sklearn\\metrics\\_classification.py:1531: UndefinedMetricWarning: Precision is ill-defined and being set to 0.0 in labels with no predicted samples. Use `zero_division` parameter to control this behavior.\n",
      "  _warn_prf(average, modifier, f\"{metric.capitalize()} is\", len(result))\n"
     ]
    }
   ],
   "source": [
    "import numpy as np\n",
    "import pandas as pd\n",
    "from tensorflow.keras.models import Sequential\n",
    "from tensorflow.keras.layers import Dense, SimpleRNN, Dropout\n",
    "from tensorflow.keras.optimizers import Adam\n",
    "from sklearn.model_selection import train_test_split\n",
    "from sklearn.metrics import classification_report\n",
    "import mlflow\n",
    "import mlflow.keras\n",
    "from sklearn.preprocessing import LabelEncoder\n",
    "\n",
    "# Assuming fraud_df is your DataFrame\n",
    "# fraud_df = pd.read_csv('your_data.csv')  # Load your dataset here\n",
    "\n",
    "# Step 1: Check for non-numeric columns and convert them\n",
    "for column in fraud_df.columns:\n",
    "    if fraud_df[column].dtype == 'object':\n",
    "        # Convert object columns to numeric using LabelEncoder\n",
    "        label_encoder = LabelEncoder()\n",
    "        fraud_df[column] = label_encoder.fit_transform(fraud_df[column])\n",
    "    elif fraud_df[column].dtype == 'bool':\n",
    "        # Convert boolean columns to int (0, 1)\n",
    "        fraud_df[column] = fraud_df[column].astype(int)\n",
    "\n",
    "# Step 2: Convert all integer columns to float to ensure compatibility with TensorFlow\n",
    "fraud_df = fraud_df.astype(float)\n",
    "\n",
    "# Step 3: Feature and target separation\n",
    "X_fraud = fraud_df.drop(columns=['class'])  # Assuming 'class' is the target\n",
    "y_fraud = fraud_df['class']\n",
    "\n",
    "# Step 4: Train-test split\n",
    "X_fraud_train, X_fraud_test, y_fraud_train, y_fraud_test = train_test_split(X_fraud, y_fraud, test_size=0.2, random_state=42)\n",
    "\n",
    "# Step 5: Reshape data to (samples, timesteps, features) for RNN input\n",
    "X_fraud_train_rnn = np.expand_dims(X_fraud_train.values, axis=1)\n",
    "X_fraud_test_rnn = np.expand_dims(X_fraud_test.values, axis=1)\n",
    "\n",
    "# Step 6: Create RNN Model\n",
    "def create_rnn_model(input_shape):\n",
    "    model = Sequential()\n",
    "    \n",
    "    # RNN layer with 64 units\n",
    "    model.add(SimpleRNN(units=64, activation='tanh', input_shape=input_shape))\n",
    "    \n",
    "    # Dropout to prevent overfitting\n",
    "    model.add(Dropout(0.5))\n",
    "    \n",
    "    # Fully connected layers\n",
    "    model.add(Dense(32, activation='relu'))\n",
    "    model.add(Dense(1, activation='sigmoid'))  # Binary classification output\n",
    "    \n",
    "    # Compile the model\n",
    "    model.compile(optimizer=Adam(), loss='binary_crossentropy', metrics=['accuracy'])\n",
    "    \n",
    "    return model\n",
    "\n",
    "# Step 7: Create and train the RNN model with MLflow logging\n",
    "with mlflow.start_run(run_name=\"RNN_Fraud_Detection\"):\n",
    "    rnn_model_fraud = create_rnn_model(X_fraud_train_rnn.shape[1:])\n",
    "    \n",
    "    # Fit the model\n",
    "    history = rnn_model_fraud.fit(X_fraud_train_rnn, y_fraud_train, epochs=10, batch_size=64, validation_split=0.2)\n",
    "    \n",
    "    # Log the model and metrics\n",
    "    mlflow.keras.log_model(rnn_model_fraud, \"RNN_Fraud_Model\")\n",
    "    mlflow.log_param(\"epochs\", 10)\n",
    "    mlflow.log_param(\"batch_size\", 64)\n",
    "    \n",
    "    # Evaluate the model\n",
    "    fraud_pred_rnn = rnn_model_fraud.predict(X_fraud_test_rnn)\n",
    "    fraud_pred_rnn = np.round(fraud_pred_rnn).astype(int).flatten()\n",
    "\n",
    "    # Calculate classification report\n",
    "    report = classification_report(y_fraud_test, fraud_pred_rnn, output_dict=True)\n",
    "\n",
    "    # Safe extraction of metrics\n",
    "    accuracy_fraud = report.get('accuracy', 0.0)\n",
    "    precision_fraud = report.get('1', {}).get('precision', 0.0)\n",
    "    recall_fraud = report.get('1', {}).get('recall', 0.0)\n",
    "    f1_fraud = report.get('1', {}).get('f1-score', 0.0)\n",
    "\n",
    "    # Log metrics\n",
    "    mlflow.log_metric(\"accuracy\", accuracy_fraud)\n",
    "    mlflow.log_metric(\"precision\", precision_fraud)\n",
    "    mlflow.log_metric(\"recall\", recall_fraud)\n",
    "    mlflow.log_metric(\"f1_score\", f1_fraud)\n",
    "\n",
    "    # Save the trained model using TensorFlow's save method\n",
    "    rnn_model_fraud.save('../../saved_models/RNN_fraud_model.h5')\n",
    "\n",
    "# Print evaluation results\n",
    "print(\"Fraud Data - RNN Model\")\n",
    "print(classification_report(y_fraud_test, fraud_pred_rnn))\n"
   ]
  },
  {
   "cell_type": "markdown",
   "metadata": {},
   "source": [
    "# Long Short-Term Memory (LSTM)\n"
   ]
  },
  {
   "cell_type": "code",
   "execution_count": 20,
   "metadata": {},
   "outputs": [
    {
     "name": "stdout",
     "output_type": "stream",
     "text": [
      "Epoch 1/10\n"
     ]
    },
    {
     "name": "stderr",
     "output_type": "stream",
     "text": [
      "c:\\Users\\wubeshet.abera\\Projects\\Ten-Academy\\Fraud-detection-system\\venv\\Lib\\site-packages\\keras\\src\\layers\\rnn\\rnn.py:204: UserWarning: Do not pass an `input_shape`/`input_dim` argument to a layer. When using Sequential models, prefer using an `Input(shape)` object as the first layer in the model instead.\n",
      "  super().__init__(**kwargs)\n"
     ]
    },
    {
     "name": "stdout",
     "output_type": "stream",
     "text": [
      "\u001b[1m1292/1292\u001b[0m \u001b[32m━━━━━━━━━━━━━━━━━━━━\u001b[0m\u001b[37m\u001b[0m \u001b[1m5s\u001b[0m 2ms/step - accuracy: 0.8921 - loss: 0.3466 - val_accuracy: 0.9038 - val_loss: 0.3240\n",
      "Epoch 2/10\n",
      "\u001b[1m1292/1292\u001b[0m \u001b[32m━━━━━━━━━━━━━━━━━━━━\u001b[0m\u001b[37m\u001b[0m \u001b[1m2s\u001b[0m 2ms/step - accuracy: 0.9051 - loss: 0.3165 - val_accuracy: 0.9038 - val_loss: 0.3488\n",
      "Epoch 3/10\n",
      "\u001b[1m1292/1292\u001b[0m \u001b[32m━━━━━━━━━━━━━━━━━━━━\u001b[0m\u001b[37m\u001b[0m \u001b[1m2s\u001b[0m 2ms/step - accuracy: 0.9042 - loss: 0.3176 - val_accuracy: 0.9038 - val_loss: 0.3330\n",
      "Epoch 4/10\n",
      "\u001b[1m1292/1292\u001b[0m \u001b[32m━━━━━━━━━━━━━━━━━━━━\u001b[0m\u001b[37m\u001b[0m \u001b[1m2s\u001b[0m 2ms/step - accuracy: 0.9039 - loss: 0.3177 - val_accuracy: 0.9038 - val_loss: 0.3216\n",
      "Epoch 5/10\n",
      "\u001b[1m1292/1292\u001b[0m \u001b[32m━━━━━━━━━━━━━━━━━━━━\u001b[0m\u001b[37m\u001b[0m \u001b[1m2s\u001b[0m 2ms/step - accuracy: 0.9058 - loss: 0.3137 - val_accuracy: 0.9038 - val_loss: 0.3218\n",
      "Epoch 6/10\n",
      "\u001b[1m1292/1292\u001b[0m \u001b[32m━━━━━━━━━━━━━━━━━━━━\u001b[0m\u001b[37m\u001b[0m \u001b[1m2s\u001b[0m 2ms/step - accuracy: 0.9055 - loss: 0.3138 - val_accuracy: 0.9038 - val_loss: 0.3219\n",
      "Epoch 7/10\n",
      "\u001b[1m1292/1292\u001b[0m \u001b[32m━━━━━━━━━━━━━━━━━━━━\u001b[0m\u001b[37m\u001b[0m \u001b[1m2s\u001b[0m 2ms/step - accuracy: 0.9036 - loss: 0.3181 - val_accuracy: 0.9038 - val_loss: 0.3259\n",
      "Epoch 8/10\n",
      "\u001b[1m1292/1292\u001b[0m \u001b[32m━━━━━━━━━━━━━━━━━━━━\u001b[0m\u001b[37m\u001b[0m \u001b[1m3s\u001b[0m 2ms/step - accuracy: 0.9043 - loss: 0.3164 - val_accuracy: 0.9038 - val_loss: 0.3226\n",
      "Epoch 9/10\n",
      "\u001b[1m1292/1292\u001b[0m \u001b[32m━━━━━━━━━━━━━━━━━━━━\u001b[0m\u001b[37m\u001b[0m \u001b[1m2s\u001b[0m 2ms/step - accuracy: 0.9051 - loss: 0.3144 - val_accuracy: 0.9038 - val_loss: 0.3198\n",
      "Epoch 10/10\n",
      "\u001b[1m1292/1292\u001b[0m \u001b[32m━━━━━━━━━━━━━━━━━━━━\u001b[0m\u001b[37m\u001b[0m \u001b[1m2s\u001b[0m 2ms/step - accuracy: 0.9016 - loss: 0.3221 - val_accuracy: 0.9038 - val_loss: 0.3226\n",
      "\u001b[1m808/808\u001b[0m \u001b[32m━━━━━━━━━━━━━━━━━━━━\u001b[0m\u001b[37m\u001b[0m \u001b[1m1s\u001b[0m 982us/step\n",
      "Fraud Data - LSTM Model\n",
      "              precision    recall  f1-score   support\n",
      "\n",
      "         0.0       0.91      1.00      0.95     23419\n",
      "         1.0       0.00      0.00      0.00      2411\n",
      "\n",
      "    accuracy                           0.91     25830\n",
      "   macro avg       0.45      0.50      0.48     25830\n",
      "weighted avg       0.82      0.91      0.86     25830\n",
      "\n"
     ]
    },
    {
     "name": "stderr",
     "output_type": "stream",
     "text": [
      "c:\\Users\\wubeshet.abera\\Projects\\Ten-Academy\\Fraud-detection-system\\venv\\Lib\\site-packages\\sklearn\\metrics\\_classification.py:1531: UndefinedMetricWarning: Precision is ill-defined and being set to 0.0 in labels with no predicted samples. Use `zero_division` parameter to control this behavior.\n",
      "  _warn_prf(average, modifier, f\"{metric.capitalize()} is\", len(result))\n",
      "c:\\Users\\wubeshet.abera\\Projects\\Ten-Academy\\Fraud-detection-system\\venv\\Lib\\site-packages\\sklearn\\metrics\\_classification.py:1531: UndefinedMetricWarning: Precision is ill-defined and being set to 0.0 in labels with no predicted samples. Use `zero_division` parameter to control this behavior.\n",
      "  _warn_prf(average, modifier, f\"{metric.capitalize()} is\", len(result))\n",
      "c:\\Users\\wubeshet.abera\\Projects\\Ten-Academy\\Fraud-detection-system\\venv\\Lib\\site-packages\\sklearn\\metrics\\_classification.py:1531: UndefinedMetricWarning: Precision is ill-defined and being set to 0.0 in labels with no predicted samples. Use `zero_division` parameter to control this behavior.\n",
      "  _warn_prf(average, modifier, f\"{metric.capitalize()} is\", len(result))\n"
     ]
    }
   ],
   "source": [
    "import numpy as np\n",
    "from tensorflow.keras.models import Sequential, load_model\n",
    "from tensorflow.keras.layers import Dense, LSTM, Dropout\n",
    "from tensorflow.keras.optimizers import Adam\n",
    "from sklearn.model_selection import train_test_split\n",
    "from sklearn.metrics import classification_report\n",
    "\n",
    "# Assuming X_fraud and y_fraud are already prepared\n",
    "\n",
    "# Create LSTM Model\n",
    "def create_lstm_model(input_shape):\n",
    "    model = Sequential()\n",
    "    \n",
    "    # LSTM layer with 64 units\n",
    "    model.add(LSTM(units=64, activation='tanh', input_shape=input_shape))\n",
    "    \n",
    "    # Dropout to prevent overfitting\n",
    "    model.add(Dropout(0.5))\n",
    "    \n",
    "    # Fully connected layers\n",
    "    model.add(Dense(32, activation='relu'))\n",
    "    model.add(Dense(1, activation='sigmoid'))  # Binary classification output\n",
    "    \n",
    "    # Compile the model\n",
    "    model.compile(optimizer=Adam(), loss='binary_crossentropy', metrics=['accuracy'])\n",
    "    \n",
    "    return model\n",
    "\n",
    "# Train-test split for fraud data\n",
    "X_fraud_train, X_fraud_test, y_fraud_train, y_fraud_test = train_test_split(X_fraud, y_fraud, test_size=0.2, random_state=42)\n",
    "\n",
    "# Reshape data to (samples, timesteps, features) for LSTM input\n",
    "X_fraud_train_lstm = np.expand_dims(X_fraud_train, axis=1)\n",
    "X_fraud_test_lstm = np.expand_dims(X_fraud_test, axis=1)\n",
    "\n",
    "# Build and train the LSTM model for fraud data\n",
    "lstm_model_fraud = create_lstm_model(X_fraud_train_lstm.shape[1:])\n",
    "lstm_model_fraud.fit(X_fraud_train_lstm, y_fraud_train, epochs=10, batch_size=64, validation_split=0.2)\n",
    "\n",
    "# Evaluate the LSTM model for fraud data\n",
    "fraud_pred_lstm = lstm_model_fraud.predict(X_fraud_test_lstm)\n",
    "fraud_pred_lstm = np.round(fraud_pred_lstm)\n",
    "\n",
    "# Print evaluation results\n",
    "print(\"Fraud Data - LSTM Model\")\n",
    "print(classification_report(y_fraud_test, fraud_pred_lstm))\n",
    "\n",
    "# Save the trained model using TensorFlow's save method\n",
    "lstm_model_fraud.save('../../saved_models/LSTM_fraud_model.h5')\n"
   ]
  }
 ],
 "metadata": {
  "kernelspec": {
   "display_name": "venv",
   "language": "python",
   "name": "python3"
  },
  "language_info": {
   "codemirror_mode": {
    "name": "ipython",
    "version": 3
   },
   "file_extension": ".py",
   "mimetype": "text/x-python",
   "name": "python",
   "nbconvert_exporter": "python",
   "pygments_lexer": "ipython3",
   "version": "3.12.3"
  }
 },
 "nbformat": 4,
 "nbformat_minor": 2
}
